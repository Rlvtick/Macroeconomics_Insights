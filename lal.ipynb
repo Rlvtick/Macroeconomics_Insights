{
 "cells": [
  {
   "cell_type": "markdown",
   "metadata": {},
   "source": [
    "## Importing Libraries"
   ]
  },
  {
   "cell_type": "code",
   "execution_count": 1,
   "metadata": {},
   "outputs": [],
   "source": [
    "import mysql.connector\n",
    "import pandas as pd\n",
    "import matplotlib.pyplot as plt\n",
    "import seaborn as sns\n",
    "import plotly.graph_objects as go"
   ]
  },
  {
   "cell_type": "markdown",
   "metadata": {},
   "source": [
    "## Connecting to Database"
   ]
  },
  {
   "cell_type": "code",
   "execution_count": 2,
   "metadata": {},
   "outputs": [
    {
     "name": "stdout",
     "output_type": "stream",
     "text": [
      "Tables in database:\n",
      "information_schema\n",
      "u385006994_databoks\n",
      "Database connection closed.\n"
     ]
    }
   ],
   "source": [
    "# Database connection details\n",
    "host = \"srv610.hstgr.io\"\n",
    "user = \"u385006994_freelance\"\n",
    "password = \"FredbAc3s5\"\n",
    "\n",
    "try:\n",
    "    conn = mysql.connector.connect(\n",
    "        host=host,\n",
    "        user=user,\n",
    "        password=password\n",
    "    )\n",
    "    cursor = conn.cursor()\n",
    "\n",
    "    # List all databases\n",
    "    cursor.execute(\"SHOW DATABASES;\")\n",
    "    databases = cursor.fetchall()\n",
    "    \n",
    "    print(\"Tables in database:\")\n",
    "    for db in databases:\n",
    "        print(db[0])\n",
    "\n",
    "except mysql.connector.Error as err:\n",
    "    print(f\"Error: {err}\")\n",
    "\n",
    "finally:\n",
    "    if 'conn' in locals() and conn.is_connected():\n",
    "        cursor.close()\n",
    "        conn.close()\n",
    "        print(\"Database connection closed.\")\n"
   ]
  },
  {
   "cell_type": "code",
   "execution_count": 3,
   "metadata": {},
   "outputs": [
    {
     "name": "stdout",
     "output_type": "stream",
     "text": [
      "Tables in 'u385006994_databoks':\n",
      "cuaca_kabkota_new\n",
      "data\n",
      "Database connection closed.\n"
     ]
    }
   ],
   "source": [
    "database_name = \"u385006994_databoks\"  # Actual database name\n",
    "\n",
    "try:\n",
    "    conn = mysql.connector.connect(\n",
    "        host=host,\n",
    "        user=user,\n",
    "        password=password,\n",
    "        database=database_name\n",
    "    )\n",
    "    cursor = conn.cursor()\n",
    "\n",
    "    # List all tables in the selected database\n",
    "    cursor.execute(\"SHOW TABLES;\")\n",
    "    tables = cursor.fetchall()\n",
    "    \n",
    "    print(f\"Tables in '{database_name}':\")\n",
    "    for table in tables:\n",
    "        print(table[0])\n",
    "\n",
    "except mysql.connector.Error as err:\n",
    "    print(f\"Error: {err}\")\n",
    "\n",
    "finally:\n",
    "    if 'conn' in locals() and conn.is_connected():\n",
    "        cursor.close()\n",
    "        conn.close()\n",
    "        print(\"Database connection closed.\")\n"
   ]
  },
  {
   "cell_type": "code",
   "execution_count": 4,
   "metadata": {},
   "outputs": [
    {
     "name": "stdout",
     "output_type": "stream",
     "text": [
      "Columns in 'data': ['id', 'id_nama_data', 'indikator', 'satuan', 'data_x', 'data_y', 'namadata_tsidx', 'date_created']\n"
     ]
    },
    {
     "data": {
      "text/html": [
       "<div>\n",
       "<style scoped>\n",
       "    .dataframe tbody tr th:only-of-type {\n",
       "        vertical-align: middle;\n",
       "    }\n",
       "\n",
       "    .dataframe tbody tr th {\n",
       "        vertical-align: top;\n",
       "    }\n",
       "\n",
       "    .dataframe thead th {\n",
       "        text-align: right;\n",
       "    }\n",
       "</style>\n",
       "<table border=\"1\" class=\"dataframe\">\n",
       "  <thead>\n",
       "    <tr style=\"text-align: right;\">\n",
       "      <th></th>\n",
       "      <th>id</th>\n",
       "      <th>id_nama_data</th>\n",
       "      <th>indikator</th>\n",
       "      <th>satuan</th>\n",
       "      <th>data_x</th>\n",
       "      <th>data_y</th>\n",
       "      <th>namadata_tsidx</th>\n",
       "      <th>date_created</th>\n",
       "    </tr>\n",
       "  </thead>\n",
       "  <tbody>\n",
       "    <tr>\n",
       "      <th>0</th>\n",
       "      <td>329339</td>\n",
       "      <td>11164</td>\n",
       "      <td>Cadangan Devisa BI Menurut Jenis</td>\n",
       "      <td>US$ juta</td>\n",
       "      <td>31-01-2001,28-02-2001,31-03-2001,30-04-2001,31...</td>\n",
       "      <td>29257.0,29107.0,28673.0,28713.0,28594.0,28638....</td>\n",
       "      <td>Cadangan Devisa BI Menurut Jenis Total Indones...</td>\n",
       "      <td>2025-01-30 05:33:40</td>\n",
       "    </tr>\n",
       "    <tr>\n",
       "      <th>1</th>\n",
       "      <td>181121</td>\n",
       "      <td>8453</td>\n",
       "      <td>Total Nilai Ekspor Bulanan</td>\n",
       "      <td>US$</td>\n",
       "      <td>31-01-1993,28-02-1993,31-03-1993,30-04-1993,31...</td>\n",
       "      <td>3001900000.0,2892500000.0,3008500000.0,2957500...</td>\n",
       "      <td>Total Nilai Ekspor Impor Bulanan Ekspor Indone...</td>\n",
       "      <td>2025-01-30 05:50:12</td>\n",
       "    </tr>\n",
       "    <tr>\n",
       "      <th>2</th>\n",
       "      <td>181124</td>\n",
       "      <td>8453</td>\n",
       "      <td>Total Nilai Impor Bulanan</td>\n",
       "      <td>US$</td>\n",
       "      <td>31-01-1993,28-02-1993,31-03-1993,30-04-1993,31...</td>\n",
       "      <td>2143100000.0,2015900000.0,2191200000.0,2234800...</td>\n",
       "      <td>Total Nilai Ekspor Impor Bulanan Impor Indones...</td>\n",
       "      <td>2025-01-30 05:50:12</td>\n",
       "    </tr>\n",
       "    <tr>\n",
       "      <th>3</th>\n",
       "      <td>183171</td>\n",
       "      <td>9350</td>\n",
       "      <td>Pertumbuhan PDB Harga Konstan Menurut Lapangan...</td>\n",
       "      <td>persen</td>\n",
       "      <td>31-03-2011,30-06-2011,30-09-2011,31-12-2011,31...</td>\n",
       "      <td>6.48,6.27,6.01,5.94,6.11,6.21,5.94,5.87,5.54,5...</td>\n",
       "      <td>Laju Pertumbuhan PDB Harga Konstan (Triwulanan...</td>\n",
       "      <td>2025-01-30 05:56:34</td>\n",
       "    </tr>\n",
       "  </tbody>\n",
       "</table>\n",
       "</div>"
      ],
      "text/plain": [
       "       id  id_nama_data                                          indikator  \\\n",
       "0  329339         11164                   Cadangan Devisa BI Menurut Jenis   \n",
       "1  181121          8453                         Total Nilai Ekspor Bulanan   \n",
       "2  181124          8453                          Total Nilai Impor Bulanan   \n",
       "3  183171          9350  Pertumbuhan PDB Harga Konstan Menurut Lapangan...   \n",
       "\n",
       "     satuan                                             data_x  \\\n",
       "0  US$ juta  31-01-2001,28-02-2001,31-03-2001,30-04-2001,31...   \n",
       "1       US$  31-01-1993,28-02-1993,31-03-1993,30-04-1993,31...   \n",
       "2       US$  31-01-1993,28-02-1993,31-03-1993,30-04-1993,31...   \n",
       "3    persen  31-03-2011,30-06-2011,30-09-2011,31-12-2011,31...   \n",
       "\n",
       "                                              data_y  \\\n",
       "0  29257.0,29107.0,28673.0,28713.0,28594.0,28638....   \n",
       "1  3001900000.0,2892500000.0,3008500000.0,2957500...   \n",
       "2  2143100000.0,2015900000.0,2191200000.0,2234800...   \n",
       "3  6.48,6.27,6.01,5.94,6.11,6.21,5.94,5.87,5.54,5...   \n",
       "\n",
       "                                      namadata_tsidx        date_created  \n",
       "0  Cadangan Devisa BI Menurut Jenis Total Indones... 2025-01-30 05:33:40  \n",
       "1  Total Nilai Ekspor Impor Bulanan Ekspor Indone... 2025-01-30 05:50:12  \n",
       "2  Total Nilai Ekspor Impor Bulanan Impor Indones... 2025-01-30 05:50:12  \n",
       "3  Laju Pertumbuhan PDB Harga Konstan (Triwulanan... 2025-01-30 05:56:34  "
      ]
     },
     "metadata": {},
     "output_type": "display_data"
    },
    {
     "name": "stdout",
     "output_type": "stream",
     "text": [
      "Database connection closed.\n"
     ]
    }
   ],
   "source": [
    "table_name = \"data\"  # Replace with an actual table name\n",
    "\n",
    "try:\n",
    "    conn = mysql.connector.connect(\n",
    "        host=host,\n",
    "        user=user,\n",
    "        password=password,\n",
    "        database=database_name\n",
    "    )\n",
    "    cursor = conn.cursor()\n",
    "\n",
    "    # Get column names\n",
    "    cursor.execute(f\"DESCRIBE {table_name};\")\n",
    "    columns = [col[0] for col in cursor.fetchall()]\n",
    "    \n",
    "    print(f\"Columns in '{table_name}': {columns}\")\n",
    "\n",
    "    # Fetch first 5 rows\n",
    "    cursor.execute(f\"SELECT * FROM {table_name} LIMIT 5;\")\n",
    "    rows = cursor.fetchall()\n",
    "\n",
    "    # Convert to DataFrame\n",
    "    df = pd.DataFrame(rows, columns=columns)\n",
    "    display(df)\n",
    "\n",
    "except mysql.connector.Error as err:\n",
    "    print(f\"Error: {err}\")\n",
    "\n",
    "finally:\n",
    "    if 'conn' in locals() and conn.is_connected():\n",
    "        cursor.close()\n",
    "        conn.close()\n",
    "        print(\"Database connection closed.\")"
   ]
  },
  {
   "cell_type": "code",
   "execution_count": 5,
   "metadata": {},
   "outputs": [
    {
     "name": "stdout",
     "output_type": "stream",
     "text": [
      "Dataset has been successfully exported to 'exported_data.csv'\n"
     ]
    }
   ],
   "source": [
    "csv_filename = \"exported_data.csv\"\n",
    "\n",
    "df.to_csv(csv_filename, index=False)\n",
    "print(f\"Dataset has been successfully exported to '{csv_filename}'\")"
   ]
  },
  {
   "cell_type": "markdown",
   "metadata": {},
   "source": [
    "## Data Transformation"
   ]
  },
  {
   "cell_type": "code",
   "execution_count": 6,
   "metadata": {},
   "outputs": [
    {
     "name": "stderr",
     "output_type": "stream",
     "text": [
      "/var/folders/0t/tym83fts64b5fv862t1vq5lm0000gn/T/ipykernel_27540/3505989653.py:26: UserWarning: Parsing dates in %d-%m-%Y format when dayfirst=False (the default) was specified. Pass `dayfirst=True` or specify a format to silence this warning.\n",
      "  df_long['date'] = pd.to_datetime(df_long['date'], errors='coerce')\n"
     ]
    },
    {
     "data": {
      "text/html": [
       "<div>\n",
       "<style scoped>\n",
       "    .dataframe tbody tr th:only-of-type {\n",
       "        vertical-align: middle;\n",
       "    }\n",
       "\n",
       "    .dataframe tbody tr th {\n",
       "        vertical-align: top;\n",
       "    }\n",
       "\n",
       "    .dataframe thead th {\n",
       "        text-align: right;\n",
       "    }\n",
       "</style>\n",
       "<table border=\"1\" class=\"dataframe\">\n",
       "  <thead>\n",
       "    <tr style=\"text-align: right;\">\n",
       "      <th></th>\n",
       "      <th>id</th>\n",
       "      <th>id_nama_data</th>\n",
       "      <th>indikator</th>\n",
       "      <th>satuan</th>\n",
       "      <th>date</th>\n",
       "      <th>value</th>\n",
       "      <th>namadata_tsidx</th>\n",
       "    </tr>\n",
       "  </thead>\n",
       "  <tbody>\n",
       "    <tr>\n",
       "      <th>0</th>\n",
       "      <td>329339</td>\n",
       "      <td>11164</td>\n",
       "      <td>Cadangan Devisa BI Menurut Jenis</td>\n",
       "      <td>US$ juta</td>\n",
       "      <td>2001-01-31</td>\n",
       "      <td>29257.0</td>\n",
       "      <td>Cadangan Devisa BI Menurut Jenis Total Indones...</td>\n",
       "    </tr>\n",
       "    <tr>\n",
       "      <th>1</th>\n",
       "      <td>329339</td>\n",
       "      <td>11164</td>\n",
       "      <td>Cadangan Devisa BI Menurut Jenis</td>\n",
       "      <td>US$ juta</td>\n",
       "      <td>2001-02-28</td>\n",
       "      <td>29107.0</td>\n",
       "      <td>Cadangan Devisa BI Menurut Jenis Total Indones...</td>\n",
       "    </tr>\n",
       "    <tr>\n",
       "      <th>2</th>\n",
       "      <td>329339</td>\n",
       "      <td>11164</td>\n",
       "      <td>Cadangan Devisa BI Menurut Jenis</td>\n",
       "      <td>US$ juta</td>\n",
       "      <td>2001-03-31</td>\n",
       "      <td>28673.0</td>\n",
       "      <td>Cadangan Devisa BI Menurut Jenis Total Indones...</td>\n",
       "    </tr>\n",
       "    <tr>\n",
       "      <th>3</th>\n",
       "      <td>329339</td>\n",
       "      <td>11164</td>\n",
       "      <td>Cadangan Devisa BI Menurut Jenis</td>\n",
       "      <td>US$ juta</td>\n",
       "      <td>2001-04-30</td>\n",
       "      <td>28713.0</td>\n",
       "      <td>Cadangan Devisa BI Menurut Jenis Total Indones...</td>\n",
       "    </tr>\n",
       "    <tr>\n",
       "      <th>4</th>\n",
       "      <td>329339</td>\n",
       "      <td>11164</td>\n",
       "      <td>Cadangan Devisa BI Menurut Jenis</td>\n",
       "      <td>US$ juta</td>\n",
       "      <td>2001-05-31</td>\n",
       "      <td>28594.0</td>\n",
       "      <td>Cadangan Devisa BI Menurut Jenis Total Indones...</td>\n",
       "    </tr>\n",
       "  </tbody>\n",
       "</table>\n",
       "</div>"
      ],
      "text/plain": [
       "       id  id_nama_data                         indikator    satuan  \\\n",
       "0  329339         11164  Cadangan Devisa BI Menurut Jenis  US$ juta   \n",
       "1  329339         11164  Cadangan Devisa BI Menurut Jenis  US$ juta   \n",
       "2  329339         11164  Cadangan Devisa BI Menurut Jenis  US$ juta   \n",
       "3  329339         11164  Cadangan Devisa BI Menurut Jenis  US$ juta   \n",
       "4  329339         11164  Cadangan Devisa BI Menurut Jenis  US$ juta   \n",
       "\n",
       "        date    value                                     namadata_tsidx  \n",
       "0 2001-01-31  29257.0  Cadangan Devisa BI Menurut Jenis Total Indones...  \n",
       "1 2001-02-28  29107.0  Cadangan Devisa BI Menurut Jenis Total Indones...  \n",
       "2 2001-03-31  28673.0  Cadangan Devisa BI Menurut Jenis Total Indones...  \n",
       "3 2001-04-30  28713.0  Cadangan Devisa BI Menurut Jenis Total Indones...  \n",
       "4 2001-05-31  28594.0  Cadangan Devisa BI Menurut Jenis Total Indones...  "
      ]
     },
     "execution_count": 6,
     "metadata": {},
     "output_type": "execute_result"
    }
   ],
   "source": [
    "def transform_long_format(df):\n",
    "    long_format_data = []\n",
    "    \n",
    "    for _, row in df.iterrows():\n",
    "        dates = row['data_x'].split(',')\n",
    "        values = row['data_y'].split(',')\n",
    "        \n",
    "        if len(dates) == len(values):\n",
    "            for date, value in zip(dates, values):\n",
    "                long_format_data.append({\n",
    "                    'id': row['id'],\n",
    "                    'id_nama_data': row['id_nama_data'],\n",
    "                    'indikator': row['indikator'],\n",
    "                    'satuan': row['satuan'],\n",
    "                    'date': date,\n",
    "                    'value': float(value) if value else None,  # Convert to float\n",
    "                    'namadata_tsidx': row['namadata_tsidx']\n",
    "                })\n",
    "\n",
    "    return pd.DataFrame(long_format_data)\n",
    "\n",
    "# Apply transformation\n",
    "df_long = transform_long_format(df)\n",
    "\n",
    "# Convert 'date' column to datetime format\n",
    "df_long['date'] = pd.to_datetime(df_long['date'], errors='coerce')\n",
    "df_long.head()"
   ]
  },
  {
   "cell_type": "code",
   "execution_count": 7,
   "metadata": {},
   "outputs": [
    {
     "data": {
      "text/html": [
       "<div>\n",
       "<style scoped>\n",
       "    .dataframe tbody tr th:only-of-type {\n",
       "        vertical-align: middle;\n",
       "    }\n",
       "\n",
       "    .dataframe tbody tr th {\n",
       "        vertical-align: top;\n",
       "    }\n",
       "\n",
       "    .dataframe thead th {\n",
       "        text-align: right;\n",
       "    }\n",
       "</style>\n",
       "<table border=\"1\" class=\"dataframe\">\n",
       "  <thead>\n",
       "    <tr style=\"text-align: right;\">\n",
       "      <th></th>\n",
       "      <th>id</th>\n",
       "      <th>id_nama_data</th>\n",
       "      <th>indikator</th>\n",
       "      <th>satuan</th>\n",
       "      <th>date</th>\n",
       "      <th>value</th>\n",
       "      <th>namadata_tsidx</th>\n",
       "    </tr>\n",
       "  </thead>\n",
       "  <tbody>\n",
       "    <tr>\n",
       "      <th>168</th>\n",
       "      <td>329339</td>\n",
       "      <td>11164</td>\n",
       "      <td>Cadangan Devisa BI Menurut Jenis</td>\n",
       "      <td>US$ juta</td>\n",
       "      <td>2015-01-31</td>\n",
       "      <td>114250.0</td>\n",
       "      <td>Cadangan Devisa BI Menurut Jenis Total Indones...</td>\n",
       "    </tr>\n",
       "    <tr>\n",
       "      <th>169</th>\n",
       "      <td>329339</td>\n",
       "      <td>11164</td>\n",
       "      <td>Cadangan Devisa BI Menurut Jenis</td>\n",
       "      <td>US$ juta</td>\n",
       "      <td>2015-02-28</td>\n",
       "      <td>115527.0</td>\n",
       "      <td>Cadangan Devisa BI Menurut Jenis Total Indones...</td>\n",
       "    </tr>\n",
       "    <tr>\n",
       "      <th>170</th>\n",
       "      <td>329339</td>\n",
       "      <td>11164</td>\n",
       "      <td>Cadangan Devisa BI Menurut Jenis</td>\n",
       "      <td>US$ juta</td>\n",
       "      <td>2015-03-31</td>\n",
       "      <td>111554.0</td>\n",
       "      <td>Cadangan Devisa BI Menurut Jenis Total Indones...</td>\n",
       "    </tr>\n",
       "    <tr>\n",
       "      <th>171</th>\n",
       "      <td>329339</td>\n",
       "      <td>11164</td>\n",
       "      <td>Cadangan Devisa BI Menurut Jenis</td>\n",
       "      <td>US$ juta</td>\n",
       "      <td>2015-04-30</td>\n",
       "      <td>110867.0</td>\n",
       "      <td>Cadangan Devisa BI Menurut Jenis Total Indones...</td>\n",
       "    </tr>\n",
       "    <tr>\n",
       "      <th>172</th>\n",
       "      <td>329339</td>\n",
       "      <td>11164</td>\n",
       "      <td>Cadangan Devisa BI Menurut Jenis</td>\n",
       "      <td>US$ juta</td>\n",
       "      <td>2015-05-31</td>\n",
       "      <td>110771.0</td>\n",
       "      <td>Cadangan Devisa BI Menurut Jenis Total Indones...</td>\n",
       "    </tr>\n",
       "  </tbody>\n",
       "</table>\n",
       "</div>"
      ],
      "text/plain": [
       "         id  id_nama_data                         indikator    satuan  \\\n",
       "168  329339         11164  Cadangan Devisa BI Menurut Jenis  US$ juta   \n",
       "169  329339         11164  Cadangan Devisa BI Menurut Jenis  US$ juta   \n",
       "170  329339         11164  Cadangan Devisa BI Menurut Jenis  US$ juta   \n",
       "171  329339         11164  Cadangan Devisa BI Menurut Jenis  US$ juta   \n",
       "172  329339         11164  Cadangan Devisa BI Menurut Jenis  US$ juta   \n",
       "\n",
       "          date     value                                     namadata_tsidx  \n",
       "168 2015-01-31  114250.0  Cadangan Devisa BI Menurut Jenis Total Indones...  \n",
       "169 2015-02-28  115527.0  Cadangan Devisa BI Menurut Jenis Total Indones...  \n",
       "170 2015-03-31  111554.0  Cadangan Devisa BI Menurut Jenis Total Indones...  \n",
       "171 2015-04-30  110867.0  Cadangan Devisa BI Menurut Jenis Total Indones...  \n",
       "172 2015-05-31  110771.0  Cadangan Devisa BI Menurut Jenis Total Indones...  "
      ]
     },
     "execution_count": 7,
     "metadata": {},
     "output_type": "execute_result"
    }
   ],
   "source": [
    "# Only records from 2015 to 2024\n",
    "df_long = df_long[(df_long['date'].dt.year >= 2015) & (df_long['date'].dt.year <= 2024)]\n",
    "df_long.head()"
   ]
  },
  {
   "cell_type": "code",
   "execution_count": 8,
   "metadata": {},
   "outputs": [
    {
     "data": {
      "text/plain": [
       "id                0\n",
       "id_nama_data      0\n",
       "indikator         0\n",
       "satuan            0\n",
       "date              0\n",
       "value             0\n",
       "namadata_tsidx    0\n",
       "dtype: int64"
      ]
     },
     "execution_count": 8,
     "metadata": {},
     "output_type": "execute_result"
    }
   ],
   "source": [
    "missing_values = df_long.isnull().sum()\n",
    "missing_values"
   ]
  },
  {
   "cell_type": "code",
   "execution_count": 9,
   "metadata": {},
   "outputs": [
    {
     "name": "stdout",
     "output_type": "stream",
     "text": [
      "Transformed dataset has been successfully exported to 'transformed_data.csv'\n"
     ]
    }
   ],
   "source": [
    "csv_filename = \"transformed_data.csv\"\n",
    "df_long.to_csv(csv_filename, index=False)\n",
    "\n",
    "print(f\"Transformed dataset has been successfully exported to '{csv_filename}'\")"
   ]
  },
  {
   "cell_type": "markdown",
   "metadata": {},
   "source": [
    "## Transform to Keep Necessary Data"
   ]
  },
  {
   "cell_type": "code",
   "execution_count": 10,
   "metadata": {},
   "outputs": [
    {
     "name": "stdout",
     "output_type": "stream",
     "text": [
      "          date  Cadangan Devisa BI Menurut Jenis  \\\n",
      "0   2015-01-31                          114250.0   \n",
      "1   2015-02-28                          115527.0   \n",
      "2   2015-03-31                          111554.0   \n",
      "3   2015-04-30                          110867.0   \n",
      "4   2015-05-31                          110771.0   \n",
      "..         ...                               ...   \n",
      "115 2024-08-31                          150243.0   \n",
      "116 2024-09-30                          149922.0   \n",
      "117 2024-10-31                          151233.0   \n",
      "118 2024-11-30                          150243.0   \n",
      "119 2024-12-31                               NaN   \n",
      "\n",
      "     Pertumbuhan PDB Harga Konstan Menurut Lapangan Usaha Sektoral (Triwulanan YoY)  \\\n",
      "0                                                  NaN                                \n",
      "1                                                  NaN                                \n",
      "2                                                 4.83                                \n",
      "3                                                  NaN                                \n",
      "4                                                  NaN                                \n",
      "..                                                 ...                                \n",
      "115                                                NaN                                \n",
      "116                                                NaN                                \n",
      "117                                                NaN                                \n",
      "118                                                NaN                                \n",
      "119                                                NaN                                \n",
      "\n",
      "     Total Nilai Ekspor Bulanan  Total Nilai Impor Bulanan  \n",
      "0                  1.324490e+10               1.261230e+10  \n",
      "1                  1.217280e+10               1.151010e+10  \n",
      "2                  1.363400e+10               1.260870e+10  \n",
      "3                  1.310460e+10               1.262630e+10  \n",
      "4                  1.275470e+10               1.161360e+10  \n",
      "..                          ...                        ...  \n",
      "115                2.344030e+10               2.066520e+10  \n",
      "116                2.205550e+10               1.882460e+10  \n",
      "117                2.442160e+10               2.193830e+10  \n",
      "118                2.399820e+10               1.963170e+10  \n",
      "119                2.346100e+10               2.122210e+10  \n",
      "\n",
      "[120 rows x 5 columns]\n"
     ]
    }
   ],
   "source": [
    "# Pivoting the DataFrame to create columns for each indicator\n",
    "df_wide = df_long.pivot(index='date', columns='indikator', values='value')\n",
    "df_wide = df_wide.reset_index()\n",
    "df_wide.columns.name = None \n",
    "\n",
    "print(df_wide)"
   ]
  },
  {
   "cell_type": "code",
   "execution_count": 11,
   "metadata": {},
   "outputs": [
    {
     "name": "stdout",
     "output_type": "stream",
     "text": [
      "Transformed dataset has been successfully exported to 'transformed_data2.csv'\n"
     ]
    }
   ],
   "source": [
    "csv_filename = \"transformed_data2.csv\"\n",
    "df_wide.to_csv(csv_filename, index=False)\n",
    "\n",
    "print(f\"Transformed dataset has been successfully exported to '{csv_filename}'\")"
   ]
  },
  {
   "cell_type": "markdown",
   "metadata": {},
   "source": [
    "## Indonesian Currency Rate Dataset"
   ]
  },
  {
   "cell_type": "code",
   "execution_count": 12,
   "metadata": {},
   "outputs": [
    {
     "data": {
      "text/html": [
       "<div>\n",
       "<style scoped>\n",
       "    .dataframe tbody tr th:only-of-type {\n",
       "        vertical-align: middle;\n",
       "    }\n",
       "\n",
       "    .dataframe tbody tr th {\n",
       "        vertical-align: top;\n",
       "    }\n",
       "\n",
       "    .dataframe thead th {\n",
       "        text-align: right;\n",
       "    }\n",
       "</style>\n",
       "<table border=\"1\" class=\"dataframe\">\n",
       "  <thead>\n",
       "    <tr style=\"text-align: right;\">\n",
       "      <th></th>\n",
       "      <th>Tanggal</th>\n",
       "      <th>Terakhir</th>\n",
       "      <th>Pembukaan</th>\n",
       "      <th>Tertinggi</th>\n",
       "      <th>Terendah</th>\n",
       "      <th>Perubahan%</th>\n",
       "      <th>No</th>\n",
       "    </tr>\n",
       "  </thead>\n",
       "  <tbody>\n",
       "    <tr>\n",
       "      <th>0</th>\n",
       "      <td>01/12/24</td>\n",
       "      <td>16.090,0</td>\n",
       "      <td>15.870,0</td>\n",
       "      <td>16.322,5</td>\n",
       "      <td>15.830,0</td>\n",
       "      <td>1,58%</td>\n",
       "      <td>120</td>\n",
       "    </tr>\n",
       "    <tr>\n",
       "      <th>1</th>\n",
       "      <td>01/11/24</td>\n",
       "      <td>15.840,0</td>\n",
       "      <td>15.705,0</td>\n",
       "      <td>15.971,5</td>\n",
       "      <td>15.617,5</td>\n",
       "      <td>0,96%</td>\n",
       "      <td>119</td>\n",
       "    </tr>\n",
       "    <tr>\n",
       "      <th>2</th>\n",
       "      <td>01/10/24</td>\n",
       "      <td>15.690,0</td>\n",
       "      <td>15.175,0</td>\n",
       "      <td>15.778,5</td>\n",
       "      <td>15.167,5</td>\n",
       "      <td>3,67%</td>\n",
       "      <td>118</td>\n",
       "    </tr>\n",
       "    <tr>\n",
       "      <th>3</th>\n",
       "      <td>01/09/24</td>\n",
       "      <td>15.135,0</td>\n",
       "      <td>15.497,5</td>\n",
       "      <td>15.583,5</td>\n",
       "      <td>15.065,0</td>\n",
       "      <td>-2,04%</td>\n",
       "      <td>117</td>\n",
       "    </tr>\n",
       "    <tr>\n",
       "      <th>4</th>\n",
       "      <td>01/08/24</td>\n",
       "      <td>15.450,0</td>\n",
       "      <td>16.255,0</td>\n",
       "      <td>16.281,5</td>\n",
       "      <td>15.295,0</td>\n",
       "      <td>-4,95%</td>\n",
       "      <td>116</td>\n",
       "    </tr>\n",
       "  </tbody>\n",
       "</table>\n",
       "</div>"
      ],
      "text/plain": [
       "    Tanggal  Terakhir Pembukaan Tertinggi  Terendah Perubahan%   No\n",
       "0  01/12/24  16.090,0  15.870,0  16.322,5  15.830,0      1,58%  120\n",
       "1  01/11/24  15.840,0  15.705,0  15.971,5  15.617,5      0,96%  119\n",
       "2  01/10/24  15.690,0  15.175,0  15.778,5  15.167,5      3,67%  118\n",
       "3  01/09/24  15.135,0  15.497,5  15.583,5  15.065,0     -2,04%  117\n",
       "4  01/08/24  15.450,0  16.255,0  16.281,5  15.295,0     -4,95%  116"
      ]
     },
     "execution_count": 12,
     "metadata": {},
     "output_type": "execute_result"
    }
   ],
   "source": [
    "currency_file_path = \"/Users/morenomusadat/Proyek Predictive Analytics/Price/Indonesia.csv\"\n",
    "df_currency = pd.read_csv(currency_file_path, delimiter=\";\")\n",
    "df_currency.head()"
   ]
  },
  {
   "cell_type": "code",
   "execution_count": 13,
   "metadata": {},
   "outputs": [
    {
     "data": {
      "text/html": [
       "<div>\n",
       "<style scoped>\n",
       "    .dataframe tbody tr th:only-of-type {\n",
       "        vertical-align: middle;\n",
       "    }\n",
       "\n",
       "    .dataframe tbody tr th {\n",
       "        vertical-align: top;\n",
       "    }\n",
       "\n",
       "    .dataframe thead th {\n",
       "        text-align: right;\n",
       "    }\n",
       "</style>\n",
       "<table border=\"1\" class=\"dataframe\">\n",
       "  <thead>\n",
       "    <tr style=\"text-align: right;\">\n",
       "      <th></th>\n",
       "      <th>date</th>\n",
       "      <th>Cadangan Devisa BI Menurut Jenis</th>\n",
       "      <th>Pertumbuhan PDB Harga Konstan Menurut Lapangan Usaha Sektoral (Triwulanan YoY)</th>\n",
       "      <th>Total Nilai Ekspor Bulanan</th>\n",
       "      <th>Total Nilai Impor Bulanan</th>\n",
       "      <th>Terakhir</th>\n",
       "      <th>Tertinggi</th>\n",
       "      <th>Terendah</th>\n",
       "    </tr>\n",
       "  </thead>\n",
       "  <tbody>\n",
       "    <tr>\n",
       "      <th>0</th>\n",
       "      <td>2015-01-31</td>\n",
       "      <td>114250.0</td>\n",
       "      <td>NaN</td>\n",
       "      <td>1.324490e+10</td>\n",
       "      <td>1.261230e+10</td>\n",
       "      <td>12665.0</td>\n",
       "      <td>12757.5</td>\n",
       "      <td>12410.0</td>\n",
       "    </tr>\n",
       "    <tr>\n",
       "      <th>1</th>\n",
       "      <td>2015-02-28</td>\n",
       "      <td>115527.0</td>\n",
       "      <td>NaN</td>\n",
       "      <td>1.217280e+10</td>\n",
       "      <td>1.151010e+10</td>\n",
       "      <td>12920.0</td>\n",
       "      <td>12945.0</td>\n",
       "      <td>12587.5</td>\n",
       "    </tr>\n",
       "    <tr>\n",
       "      <th>2</th>\n",
       "      <td>2015-03-31</td>\n",
       "      <td>111554.0</td>\n",
       "      <td>4.83</td>\n",
       "      <td>1.363400e+10</td>\n",
       "      <td>1.260870e+10</td>\n",
       "      <td>13070.0</td>\n",
       "      <td>13248.0</td>\n",
       "      <td>12900.0</td>\n",
       "    </tr>\n",
       "    <tr>\n",
       "      <th>3</th>\n",
       "      <td>2015-04-30</td>\n",
       "      <td>110867.0</td>\n",
       "      <td>NaN</td>\n",
       "      <td>1.310460e+10</td>\n",
       "      <td>1.262630e+10</td>\n",
       "      <td>12960.0</td>\n",
       "      <td>13077.5</td>\n",
       "      <td>12805.0</td>\n",
       "    </tr>\n",
       "    <tr>\n",
       "      <th>4</th>\n",
       "      <td>2015-05-31</td>\n",
       "      <td>110771.0</td>\n",
       "      <td>NaN</td>\n",
       "      <td>1.275470e+10</td>\n",
       "      <td>1.161360e+10</td>\n",
       "      <td>13223.0</td>\n",
       "      <td>13243.0</td>\n",
       "      <td>12976.0</td>\n",
       "    </tr>\n",
       "    <tr>\n",
       "      <th>...</th>\n",
       "      <td>...</td>\n",
       "      <td>...</td>\n",
       "      <td>...</td>\n",
       "      <td>...</td>\n",
       "      <td>...</td>\n",
       "      <td>...</td>\n",
       "      <td>...</td>\n",
       "      <td>...</td>\n",
       "    </tr>\n",
       "    <tr>\n",
       "      <th>115</th>\n",
       "      <td>2024-08-31</td>\n",
       "      <td>150243.0</td>\n",
       "      <td>NaN</td>\n",
       "      <td>2.344030e+10</td>\n",
       "      <td>2.066520e+10</td>\n",
       "      <td>15450.0</td>\n",
       "      <td>16281.5</td>\n",
       "      <td>15295.0</td>\n",
       "    </tr>\n",
       "    <tr>\n",
       "      <th>116</th>\n",
       "      <td>2024-09-30</td>\n",
       "      <td>149922.0</td>\n",
       "      <td>NaN</td>\n",
       "      <td>2.205550e+10</td>\n",
       "      <td>1.882460e+10</td>\n",
       "      <td>15135.0</td>\n",
       "      <td>15583.5</td>\n",
       "      <td>15065.0</td>\n",
       "    </tr>\n",
       "    <tr>\n",
       "      <th>117</th>\n",
       "      <td>2024-10-31</td>\n",
       "      <td>151233.0</td>\n",
       "      <td>NaN</td>\n",
       "      <td>2.442160e+10</td>\n",
       "      <td>2.193830e+10</td>\n",
       "      <td>15690.0</td>\n",
       "      <td>15778.5</td>\n",
       "      <td>15167.5</td>\n",
       "    </tr>\n",
       "    <tr>\n",
       "      <th>118</th>\n",
       "      <td>2024-11-30</td>\n",
       "      <td>150243.0</td>\n",
       "      <td>NaN</td>\n",
       "      <td>2.399820e+10</td>\n",
       "      <td>1.963170e+10</td>\n",
       "      <td>15840.0</td>\n",
       "      <td>15971.5</td>\n",
       "      <td>15617.5</td>\n",
       "    </tr>\n",
       "    <tr>\n",
       "      <th>119</th>\n",
       "      <td>2024-12-31</td>\n",
       "      <td>NaN</td>\n",
       "      <td>NaN</td>\n",
       "      <td>2.346100e+10</td>\n",
       "      <td>2.122210e+10</td>\n",
       "      <td>16090.0</td>\n",
       "      <td>16322.5</td>\n",
       "      <td>15830.0</td>\n",
       "    </tr>\n",
       "  </tbody>\n",
       "</table>\n",
       "<p>120 rows × 8 columns</p>\n",
       "</div>"
      ],
      "text/plain": [
       "          date  Cadangan Devisa BI Menurut Jenis  \\\n",
       "0   2015-01-31                          114250.0   \n",
       "1   2015-02-28                          115527.0   \n",
       "2   2015-03-31                          111554.0   \n",
       "3   2015-04-30                          110867.0   \n",
       "4   2015-05-31                          110771.0   \n",
       "..         ...                               ...   \n",
       "115 2024-08-31                          150243.0   \n",
       "116 2024-09-30                          149922.0   \n",
       "117 2024-10-31                          151233.0   \n",
       "118 2024-11-30                          150243.0   \n",
       "119 2024-12-31                               NaN   \n",
       "\n",
       "     Pertumbuhan PDB Harga Konstan Menurut Lapangan Usaha Sektoral (Triwulanan YoY)  \\\n",
       "0                                                  NaN                                \n",
       "1                                                  NaN                                \n",
       "2                                                 4.83                                \n",
       "3                                                  NaN                                \n",
       "4                                                  NaN                                \n",
       "..                                                 ...                                \n",
       "115                                                NaN                                \n",
       "116                                                NaN                                \n",
       "117                                                NaN                                \n",
       "118                                                NaN                                \n",
       "119                                                NaN                                \n",
       "\n",
       "     Total Nilai Ekspor Bulanan  Total Nilai Impor Bulanan  Terakhir  \\\n",
       "0                  1.324490e+10               1.261230e+10   12665.0   \n",
       "1                  1.217280e+10               1.151010e+10   12920.0   \n",
       "2                  1.363400e+10               1.260870e+10   13070.0   \n",
       "3                  1.310460e+10               1.262630e+10   12960.0   \n",
       "4                  1.275470e+10               1.161360e+10   13223.0   \n",
       "..                          ...                        ...       ...   \n",
       "115                2.344030e+10               2.066520e+10   15450.0   \n",
       "116                2.205550e+10               1.882460e+10   15135.0   \n",
       "117                2.442160e+10               2.193830e+10   15690.0   \n",
       "118                2.399820e+10               1.963170e+10   15840.0   \n",
       "119                2.346100e+10               2.122210e+10   16090.0   \n",
       "\n",
       "     Tertinggi  Terendah  \n",
       "0      12757.5   12410.0  \n",
       "1      12945.0   12587.5  \n",
       "2      13248.0   12900.0  \n",
       "3      13077.5   12805.0  \n",
       "4      13243.0   12976.0  \n",
       "..         ...       ...  \n",
       "115    16281.5   15295.0  \n",
       "116    15583.5   15065.0  \n",
       "117    15778.5   15167.5  \n",
       "118    15971.5   15617.5  \n",
       "119    16322.5   15830.0  \n",
       "\n",
       "[120 rows x 8 columns]"
      ]
     },
     "execution_count": 13,
     "metadata": {},
     "output_type": "execute_result"
    }
   ],
   "source": [
    "df_currency = df_currency[['Tanggal', 'Terakhir', 'Tertinggi', 'Terendah']]\n",
    "\n",
    "df_currency['Tanggal'] = pd.to_datetime(df_currency['Tanggal'], format=\"%d/%m/%y\", errors='coerce')\n",
    "df_currency.rename(columns={'Tanggal': 'date'}, inplace=True)\n",
    "\n",
    "df_currency['Terakhir'] = df_currency['Terakhir'].str.replace(r'[^\\d,]', '', regex=True).str.replace(',', '.').astype(float)\n",
    "df_currency['Tertinggi'] = df_currency['Tertinggi'].str.replace(r'[^\\d,]', '', regex=True).str.replace(',', '.').astype(float)\n",
    "df_currency['Terendah'] = df_currency['Terendah'].str.replace(r'[^\\d,]', '', regex=True).str.replace(',', '.').astype(float)\n",
    "\n",
    "df_wide['date'] = pd.to_datetime(df_wide['date'], errors='coerce')\n",
    "df_currency['date'] = df_currency['date'] + pd.offsets.MonthEnd(0)\n",
    "\n",
    "df_merged = pd.merge(df_wide, df_currency, on='date', how='left')\n",
    "df_merged\n"
   ]
  },
  {
   "cell_type": "markdown",
   "metadata": {},
   "source": [
    "### Forward Filling Variable Cadangan Devisa"
   ]
  },
  {
   "cell_type": "code",
   "execution_count": 14,
   "metadata": {},
   "outputs": [
    {
     "name": "stderr",
     "output_type": "stream",
     "text": [
      "/var/folders/0t/tym83fts64b5fv862t1vq5lm0000gn/T/ipykernel_27540/2240744526.py:1: FutureWarning: Series.fillna with 'method' is deprecated and will raise in a future version. Use obj.ffill() or obj.bfill() instead.\n",
      "  df_merged['Cadangan Devisa BI Menurut Jenis'].fillna(method='ffill', inplace=True)\n"
     ]
    },
    {
     "data": {
      "text/plain": [
       "date                                                                               0\n",
       "Cadangan Devisa BI Menurut Jenis                                                   0\n",
       "Pertumbuhan PDB Harga Konstan Menurut Lapangan Usaha Sektoral (Triwulanan YoY)    82\n",
       "Total Nilai Ekspor Bulanan                                                         0\n",
       "Total Nilai Impor Bulanan                                                          0\n",
       "Terakhir                                                                           0\n",
       "Tertinggi                                                                          0\n",
       "Terendah                                                                           0\n",
       "dtype: int64"
      ]
     },
     "execution_count": 14,
     "metadata": {},
     "output_type": "execute_result"
    }
   ],
   "source": [
    "df_merged['Cadangan Devisa BI Menurut Jenis'].fillna(method='ffill', inplace=True)\n",
    "df_merged.isnull().sum()"
   ]
  },
  {
   "cell_type": "markdown",
   "metadata": {},
   "source": [
    "### Forward Filling and Backward Filling Variable Pertumbuhan PDB Harga Konstan Menurut Lapangan Usaha Sektoral (Triwulanan YoY)"
   ]
  },
  {
   "cell_type": "code",
   "execution_count": 15,
   "metadata": {},
   "outputs": [
    {
     "name": "stderr",
     "output_type": "stream",
     "text": [
      "/var/folders/0t/tym83fts64b5fv862t1vq5lm0000gn/T/ipykernel_27540/55429065.py:2: FutureWarning: Series.fillna with 'method' is deprecated and will raise in a future version. Use obj.ffill() or obj.bfill() instead.\n",
      "  df_merged['Pertumbuhan PDB Harga Konstan Menurut Lapangan Usaha Sektoral (Triwulanan YoY)'].fillna(method='ffill', inplace=True)\n",
      "/var/folders/0t/tym83fts64b5fv862t1vq5lm0000gn/T/ipykernel_27540/55429065.py:3: FutureWarning: Series.fillna with 'method' is deprecated and will raise in a future version. Use obj.ffill() or obj.bfill() instead.\n",
      "  df_merged['Pertumbuhan PDB Harga Konstan Menurut Lapangan Usaha Sektoral (Triwulanan YoY)'].fillna(method='bfill', inplace=True)\n"
     ]
    },
    {
     "data": {
      "text/html": [
       "<div>\n",
       "<style scoped>\n",
       "    .dataframe tbody tr th:only-of-type {\n",
       "        vertical-align: middle;\n",
       "    }\n",
       "\n",
       "    .dataframe tbody tr th {\n",
       "        vertical-align: top;\n",
       "    }\n",
       "\n",
       "    .dataframe thead th {\n",
       "        text-align: right;\n",
       "    }\n",
       "</style>\n",
       "<table border=\"1\" class=\"dataframe\">\n",
       "  <thead>\n",
       "    <tr style=\"text-align: right;\">\n",
       "      <th></th>\n",
       "      <th>date</th>\n",
       "      <th>Cadangan Devisa BI Menurut Jenis</th>\n",
       "      <th>Pertumbuhan PDB Harga Konstan Menurut Lapangan Usaha Sektoral (Triwulanan YoY)</th>\n",
       "      <th>Total Nilai Ekspor Bulanan</th>\n",
       "      <th>Total Nilai Impor Bulanan</th>\n",
       "      <th>Terakhir</th>\n",
       "      <th>Tertinggi</th>\n",
       "      <th>Terendah</th>\n",
       "    </tr>\n",
       "  </thead>\n",
       "  <tbody>\n",
       "    <tr>\n",
       "      <th>0</th>\n",
       "      <td>2015-01-31</td>\n",
       "      <td>114250.0</td>\n",
       "      <td>4.83</td>\n",
       "      <td>1.324490e+10</td>\n",
       "      <td>1.261230e+10</td>\n",
       "      <td>12665.0</td>\n",
       "      <td>12757.5</td>\n",
       "      <td>12410.0</td>\n",
       "    </tr>\n",
       "    <tr>\n",
       "      <th>1</th>\n",
       "      <td>2015-02-28</td>\n",
       "      <td>115527.0</td>\n",
       "      <td>4.83</td>\n",
       "      <td>1.217280e+10</td>\n",
       "      <td>1.151010e+10</td>\n",
       "      <td>12920.0</td>\n",
       "      <td>12945.0</td>\n",
       "      <td>12587.5</td>\n",
       "    </tr>\n",
       "    <tr>\n",
       "      <th>2</th>\n",
       "      <td>2015-03-31</td>\n",
       "      <td>111554.0</td>\n",
       "      <td>4.83</td>\n",
       "      <td>1.363400e+10</td>\n",
       "      <td>1.260870e+10</td>\n",
       "      <td>13070.0</td>\n",
       "      <td>13248.0</td>\n",
       "      <td>12900.0</td>\n",
       "    </tr>\n",
       "    <tr>\n",
       "      <th>3</th>\n",
       "      <td>2015-04-30</td>\n",
       "      <td>110867.0</td>\n",
       "      <td>4.83</td>\n",
       "      <td>1.310460e+10</td>\n",
       "      <td>1.262630e+10</td>\n",
       "      <td>12960.0</td>\n",
       "      <td>13077.5</td>\n",
       "      <td>12805.0</td>\n",
       "    </tr>\n",
       "    <tr>\n",
       "      <th>4</th>\n",
       "      <td>2015-05-31</td>\n",
       "      <td>110771.0</td>\n",
       "      <td>4.83</td>\n",
       "      <td>1.275470e+10</td>\n",
       "      <td>1.161360e+10</td>\n",
       "      <td>13223.0</td>\n",
       "      <td>13243.0</td>\n",
       "      <td>12976.0</td>\n",
       "    </tr>\n",
       "    <tr>\n",
       "      <th>...</th>\n",
       "      <td>...</td>\n",
       "      <td>...</td>\n",
       "      <td>...</td>\n",
       "      <td>...</td>\n",
       "      <td>...</td>\n",
       "      <td>...</td>\n",
       "      <td>...</td>\n",
       "      <td>...</td>\n",
       "    </tr>\n",
       "    <tr>\n",
       "      <th>115</th>\n",
       "      <td>2024-08-31</td>\n",
       "      <td>150243.0</td>\n",
       "      <td>5.05</td>\n",
       "      <td>2.344030e+10</td>\n",
       "      <td>2.066520e+10</td>\n",
       "      <td>15450.0</td>\n",
       "      <td>16281.5</td>\n",
       "      <td>15295.0</td>\n",
       "    </tr>\n",
       "    <tr>\n",
       "      <th>116</th>\n",
       "      <td>2024-09-30</td>\n",
       "      <td>149922.0</td>\n",
       "      <td>5.05</td>\n",
       "      <td>2.205550e+10</td>\n",
       "      <td>1.882460e+10</td>\n",
       "      <td>15135.0</td>\n",
       "      <td>15583.5</td>\n",
       "      <td>15065.0</td>\n",
       "    </tr>\n",
       "    <tr>\n",
       "      <th>117</th>\n",
       "      <td>2024-10-31</td>\n",
       "      <td>151233.0</td>\n",
       "      <td>5.05</td>\n",
       "      <td>2.442160e+10</td>\n",
       "      <td>2.193830e+10</td>\n",
       "      <td>15690.0</td>\n",
       "      <td>15778.5</td>\n",
       "      <td>15167.5</td>\n",
       "    </tr>\n",
       "    <tr>\n",
       "      <th>118</th>\n",
       "      <td>2024-11-30</td>\n",
       "      <td>150243.0</td>\n",
       "      <td>5.05</td>\n",
       "      <td>2.399820e+10</td>\n",
       "      <td>1.963170e+10</td>\n",
       "      <td>15840.0</td>\n",
       "      <td>15971.5</td>\n",
       "      <td>15617.5</td>\n",
       "    </tr>\n",
       "    <tr>\n",
       "      <th>119</th>\n",
       "      <td>2024-12-31</td>\n",
       "      <td>150243.0</td>\n",
       "      <td>5.05</td>\n",
       "      <td>2.346100e+10</td>\n",
       "      <td>2.122210e+10</td>\n",
       "      <td>16090.0</td>\n",
       "      <td>16322.5</td>\n",
       "      <td>15830.0</td>\n",
       "    </tr>\n",
       "  </tbody>\n",
       "</table>\n",
       "<p>120 rows × 8 columns</p>\n",
       "</div>"
      ],
      "text/plain": [
       "          date  Cadangan Devisa BI Menurut Jenis  \\\n",
       "0   2015-01-31                          114250.0   \n",
       "1   2015-02-28                          115527.0   \n",
       "2   2015-03-31                          111554.0   \n",
       "3   2015-04-30                          110867.0   \n",
       "4   2015-05-31                          110771.0   \n",
       "..         ...                               ...   \n",
       "115 2024-08-31                          150243.0   \n",
       "116 2024-09-30                          149922.0   \n",
       "117 2024-10-31                          151233.0   \n",
       "118 2024-11-30                          150243.0   \n",
       "119 2024-12-31                          150243.0   \n",
       "\n",
       "     Pertumbuhan PDB Harga Konstan Menurut Lapangan Usaha Sektoral (Triwulanan YoY)  \\\n",
       "0                                                 4.83                                \n",
       "1                                                 4.83                                \n",
       "2                                                 4.83                                \n",
       "3                                                 4.83                                \n",
       "4                                                 4.83                                \n",
       "..                                                 ...                                \n",
       "115                                               5.05                                \n",
       "116                                               5.05                                \n",
       "117                                               5.05                                \n",
       "118                                               5.05                                \n",
       "119                                               5.05                                \n",
       "\n",
       "     Total Nilai Ekspor Bulanan  Total Nilai Impor Bulanan  Terakhir  \\\n",
       "0                  1.324490e+10               1.261230e+10   12665.0   \n",
       "1                  1.217280e+10               1.151010e+10   12920.0   \n",
       "2                  1.363400e+10               1.260870e+10   13070.0   \n",
       "3                  1.310460e+10               1.262630e+10   12960.0   \n",
       "4                  1.275470e+10               1.161360e+10   13223.0   \n",
       "..                          ...                        ...       ...   \n",
       "115                2.344030e+10               2.066520e+10   15450.0   \n",
       "116                2.205550e+10               1.882460e+10   15135.0   \n",
       "117                2.442160e+10               2.193830e+10   15690.0   \n",
       "118                2.399820e+10               1.963170e+10   15840.0   \n",
       "119                2.346100e+10               2.122210e+10   16090.0   \n",
       "\n",
       "     Tertinggi  Terendah  \n",
       "0      12757.5   12410.0  \n",
       "1      12945.0   12587.5  \n",
       "2      13248.0   12900.0  \n",
       "3      13077.5   12805.0  \n",
       "4      13243.0   12976.0  \n",
       "..         ...       ...  \n",
       "115    16281.5   15295.0  \n",
       "116    15583.5   15065.0  \n",
       "117    15778.5   15167.5  \n",
       "118    15971.5   15617.5  \n",
       "119    16322.5   15830.0  \n",
       "\n",
       "[120 rows x 8 columns]"
      ]
     },
     "execution_count": 15,
     "metadata": {},
     "output_type": "execute_result"
    }
   ],
   "source": [
    "# Forward Filling\n",
    "df_merged['Pertumbuhan PDB Harga Konstan Menurut Lapangan Usaha Sektoral (Triwulanan YoY)'].fillna(method='ffill', inplace=True)\n",
    "df_merged['Pertumbuhan PDB Harga Konstan Menurut Lapangan Usaha Sektoral (Triwulanan YoY)'].fillna(method='bfill', inplace=True)\n",
    "\n",
    "df_merged.isnull().sum()\n",
    "df_merged"
   ]
  },
  {
   "cell_type": "code",
   "execution_count": 16,
   "metadata": {},
   "outputs": [
    {
     "name": "stdout",
     "output_type": "stream",
     "text": [
      "Transformed dataset has been successfully exported to 'fully_merged.csv'\n"
     ]
    }
   ],
   "source": [
    "csv_filename = \"fully_merged.csv\"\n",
    "df_merged.to_csv(csv_filename, index=False)\n",
    "\n",
    "print(f\"Transformed dataset has been successfully exported to '{csv_filename}'\")"
   ]
  },
  {
   "cell_type": "markdown",
   "metadata": {},
   "source": [
    "## Exploratory Data Analysis (EDA)"
   ]
  },
  {
   "cell_type": "code",
   "execution_count": 17,
   "metadata": {},
   "outputs": [
    {
     "name": "stdout",
     "output_type": "stream",
     "text": [
      "            Cadangan Devisa BI Menurut Jenis  \\\n",
      "date                                           \n",
      "2015-01-31                          114250.0   \n",
      "2015-02-28                          115527.0   \n",
      "2015-03-31                          111554.0   \n",
      "2015-04-30                          110867.0   \n",
      "2015-05-31                          110771.0   \n",
      "\n",
      "            Pertumbuhan PDB Harga Konstan Menurut Lapangan Usaha Sektoral (Triwulanan YoY)  \\\n",
      "date                                                                                         \n",
      "2015-01-31                                               4.83                                \n",
      "2015-02-28                                               4.83                                \n",
      "2015-03-31                                               4.83                                \n",
      "2015-04-30                                               4.83                                \n",
      "2015-05-31                                               4.83                                \n",
      "\n",
      "            Total Nilai Ekspor Bulanan  Total Nilai Impor Bulanan  Terakhir  \\\n",
      "date                                                                          \n",
      "2015-01-31                1.324490e+10               1.261230e+10   12665.0   \n",
      "2015-02-28                1.217280e+10               1.151010e+10   12920.0   \n",
      "2015-03-31                1.363400e+10               1.260870e+10   13070.0   \n",
      "2015-04-30                1.310460e+10               1.262630e+10   12960.0   \n",
      "2015-05-31                1.275470e+10               1.161360e+10   13223.0   \n",
      "\n",
      "            Tertinggi  Terendah  \n",
      "date                             \n",
      "2015-01-31    12757.5   12410.0  \n",
      "2015-02-28    12945.0   12587.5  \n",
      "2015-03-31    13248.0   12900.0  \n",
      "2015-04-30    13077.5   12805.0  \n",
      "2015-05-31    13243.0   12976.0  \n"
     ]
    },
    {
     "data": {
      "text/plain": [
       "<Figure size 1400x1000 with 0 Axes>"
      ]
     },
     "execution_count": 17,
     "metadata": {},
     "output_type": "execute_result"
    },
    {
     "data": {
      "text/plain": [
       "<Figure size 1400x1000 with 0 Axes>"
      ]
     },
     "metadata": {},
     "output_type": "display_data"
    }
   ],
   "source": [
    "# Convert 'date' column to datetime format\n",
    "df_merged['date'] = pd.to_datetime(df_merged['date'])\n",
    "df_merged.set_index('date', inplace=True)\n",
    "\n",
    "print(df_merged.head())\n",
    "\n",
    "# 1. Time Series Plots\n",
    "plt.figure(figsize=(14, 10))"
   ]
  },
  {
   "cell_type": "markdown",
   "metadata": {},
   "source": [
    "### Line Chart\n"
   ]
  },
  {
   "cell_type": "code",
   "execution_count": 18,
   "metadata": {},
   "outputs": [
    {
     "data": {
      "application/vnd.plotly.v1+json": {
       "config": {
        "plotlyServerURL": "https://plot.ly"
       },
       "data": [
        {
         "line": {
          "color": "blue",
          "width": 2
         },
         "marker": {
          "size": 6
         },
         "mode": "lines+markers",
         "name": "Foreign Reserves",
         "type": "scatter",
         "x": [
          "2015-01-31T00:00:00",
          "2015-02-28T00:00:00",
          "2015-03-31T00:00:00",
          "2015-04-30T00:00:00",
          "2015-05-31T00:00:00",
          "2015-06-30T00:00:00",
          "2015-07-31T00:00:00",
          "2015-08-31T00:00:00",
          "2015-09-30T00:00:00",
          "2015-10-31T00:00:00",
          "2015-11-30T00:00:00",
          "2015-12-31T00:00:00",
          "2016-01-31T00:00:00",
          "2016-02-29T00:00:00",
          "2016-03-31T00:00:00",
          "2016-04-30T00:00:00",
          "2016-05-31T00:00:00",
          "2016-06-30T00:00:00",
          "2016-07-31T00:00:00",
          "2016-08-31T00:00:00",
          "2016-09-30T00:00:00",
          "2016-10-31T00:00:00",
          "2016-11-30T00:00:00",
          "2016-12-31T00:00:00",
          "2017-01-31T00:00:00",
          "2017-02-28T00:00:00",
          "2017-03-31T00:00:00",
          "2017-04-30T00:00:00",
          "2017-05-31T00:00:00",
          "2017-06-30T00:00:00",
          "2017-07-31T00:00:00",
          "2017-08-31T00:00:00",
          "2017-09-30T00:00:00",
          "2017-10-31T00:00:00",
          "2017-11-30T00:00:00",
          "2017-12-31T00:00:00",
          "2018-01-31T00:00:00",
          "2018-02-28T00:00:00",
          "2018-03-31T00:00:00",
          "2018-04-30T00:00:00",
          "2018-05-31T00:00:00",
          "2018-06-30T00:00:00",
          "2018-07-31T00:00:00",
          "2018-08-31T00:00:00",
          "2018-09-30T00:00:00",
          "2018-10-31T00:00:00",
          "2018-11-30T00:00:00",
          "2018-12-31T00:00:00",
          "2019-01-31T00:00:00",
          "2019-02-28T00:00:00",
          "2019-03-31T00:00:00",
          "2019-04-30T00:00:00",
          "2019-05-31T00:00:00",
          "2019-06-30T00:00:00",
          "2019-07-31T00:00:00",
          "2019-08-31T00:00:00",
          "2019-09-30T00:00:00",
          "2019-10-31T00:00:00",
          "2019-11-30T00:00:00",
          "2019-12-31T00:00:00",
          "2020-01-31T00:00:00",
          "2020-02-29T00:00:00",
          "2020-03-31T00:00:00",
          "2020-04-30T00:00:00",
          "2020-05-31T00:00:00",
          "2020-06-30T00:00:00",
          "2020-07-31T00:00:00",
          "2020-08-31T00:00:00",
          "2020-09-30T00:00:00",
          "2020-10-31T00:00:00",
          "2020-11-30T00:00:00",
          "2020-12-31T00:00:00",
          "2021-01-31T00:00:00",
          "2021-02-28T00:00:00",
          "2021-03-31T00:00:00",
          "2021-04-30T00:00:00",
          "2021-05-31T00:00:00",
          "2021-06-30T00:00:00",
          "2021-07-31T00:00:00",
          "2021-08-31T00:00:00",
          "2021-09-30T00:00:00",
          "2021-10-31T00:00:00",
          "2021-11-30T00:00:00",
          "2021-12-31T00:00:00",
          "2022-01-31T00:00:00",
          "2022-02-28T00:00:00",
          "2022-03-31T00:00:00",
          "2022-04-30T00:00:00",
          "2022-05-31T00:00:00",
          "2022-06-30T00:00:00",
          "2022-07-31T00:00:00",
          "2022-08-31T00:00:00",
          "2022-09-30T00:00:00",
          "2022-10-31T00:00:00",
          "2022-11-30T00:00:00",
          "2022-12-31T00:00:00",
          "2023-01-31T00:00:00",
          "2023-02-28T00:00:00",
          "2023-03-31T00:00:00",
          "2023-04-30T00:00:00",
          "2023-05-31T00:00:00",
          "2023-06-30T00:00:00",
          "2023-07-31T00:00:00",
          "2023-08-31T00:00:00",
          "2023-09-30T00:00:00",
          "2023-10-31T00:00:00",
          "2023-11-30T00:00:00",
          "2023-12-31T00:00:00",
          "2024-01-31T00:00:00",
          "2024-02-29T00:00:00",
          "2024-03-31T00:00:00",
          "2024-04-30T00:00:00",
          "2024-05-31T00:00:00",
          "2024-06-30T00:00:00",
          "2024-07-31T00:00:00",
          "2024-08-31T00:00:00",
          "2024-09-30T00:00:00",
          "2024-10-31T00:00:00",
          "2024-11-30T00:00:00",
          "2024-12-31T00:00:00"
         ],
         "y": [
          114250,
          115527,
          111554,
          110867,
          110771,
          108030,
          107553,
          105346,
          101720,
          100712,
          100240,
          105931,
          102134,
          104544,
          107543,
          107711,
          103591,
          109789,
          111409,
          113538,
          115671,
          115037,
          111466,
          116362,
          116890,
          119863,
          121806,
          123249,
          124953,
          123094,
          127759,
          128787,
          129402,
          126547,
          125967,
          130196,
          131980,
          128059,
          126003,
          124862,
          122914,
          119839,
          118312,
          117927,
          114847.52,
          115163,
          117212,
          120654,
          120075,
          123274,
          124539,
          124294,
          120347,
          123823,
          125900,
          126441,
          124332,
          126694,
          126633,
          129183,
          131704,
          130444,
          120969,
          127880,
          130544,
          131718,
          135077,
          137041,
          135153,
          133663,
          133556,
          135897,
          138005,
          138787,
          137095,
          138799,
          136398,
          137093,
          137343,
          144784,
          146870,
          145461,
          145858,
          144905,
          141344,
          141435,
          139129,
          135659,
          135550,
          136379,
          132173,
          132202,
          130782,
          130197,
          133994,
          137233,
          139404,
          140311,
          145189,
          144167,
          139286,
          137541,
          137674,
          137090,
          134856,
          133140,
          138100,
          146384,
          145052,
          144040,
          140390,
          136218,
          138973,
          140177,
          145414,
          150243,
          149922,
          151233,
          150243,
          150243
         ]
        }
       ],
       "layout": {
        "font": {
         "size": 12
        },
        "hovermode": "x unified",
        "legend": {
         "title": {
          "text": "Indicator"
         }
        },
        "template": {
         "data": {
          "bar": [
           {
            "error_x": {
             "color": "#2a3f5f"
            },
            "error_y": {
             "color": "#2a3f5f"
            },
            "marker": {
             "line": {
              "color": "white",
              "width": 0.5
             },
             "pattern": {
              "fillmode": "overlay",
              "size": 10,
              "solidity": 0.2
             }
            },
            "type": "bar"
           }
          ],
          "barpolar": [
           {
            "marker": {
             "line": {
              "color": "white",
              "width": 0.5
             },
             "pattern": {
              "fillmode": "overlay",
              "size": 10,
              "solidity": 0.2
             }
            },
            "type": "barpolar"
           }
          ],
          "carpet": [
           {
            "aaxis": {
             "endlinecolor": "#2a3f5f",
             "gridcolor": "#C8D4E3",
             "linecolor": "#C8D4E3",
             "minorgridcolor": "#C8D4E3",
             "startlinecolor": "#2a3f5f"
            },
            "baxis": {
             "endlinecolor": "#2a3f5f",
             "gridcolor": "#C8D4E3",
             "linecolor": "#C8D4E3",
             "minorgridcolor": "#C8D4E3",
             "startlinecolor": "#2a3f5f"
            },
            "type": "carpet"
           }
          ],
          "choropleth": [
           {
            "colorbar": {
             "outlinewidth": 0,
             "ticks": ""
            },
            "type": "choropleth"
           }
          ],
          "contour": [
           {
            "colorbar": {
             "outlinewidth": 0,
             "ticks": ""
            },
            "colorscale": [
             [
              0,
              "#0d0887"
             ],
             [
              0.1111111111111111,
              "#46039f"
             ],
             [
              0.2222222222222222,
              "#7201a8"
             ],
             [
              0.3333333333333333,
              "#9c179e"
             ],
             [
              0.4444444444444444,
              "#bd3786"
             ],
             [
              0.5555555555555556,
              "#d8576b"
             ],
             [
              0.6666666666666666,
              "#ed7953"
             ],
             [
              0.7777777777777778,
              "#fb9f3a"
             ],
             [
              0.8888888888888888,
              "#fdca26"
             ],
             [
              1,
              "#f0f921"
             ]
            ],
            "type": "contour"
           }
          ],
          "contourcarpet": [
           {
            "colorbar": {
             "outlinewidth": 0,
             "ticks": ""
            },
            "type": "contourcarpet"
           }
          ],
          "heatmap": [
           {
            "colorbar": {
             "outlinewidth": 0,
             "ticks": ""
            },
            "colorscale": [
             [
              0,
              "#0d0887"
             ],
             [
              0.1111111111111111,
              "#46039f"
             ],
             [
              0.2222222222222222,
              "#7201a8"
             ],
             [
              0.3333333333333333,
              "#9c179e"
             ],
             [
              0.4444444444444444,
              "#bd3786"
             ],
             [
              0.5555555555555556,
              "#d8576b"
             ],
             [
              0.6666666666666666,
              "#ed7953"
             ],
             [
              0.7777777777777778,
              "#fb9f3a"
             ],
             [
              0.8888888888888888,
              "#fdca26"
             ],
             [
              1,
              "#f0f921"
             ]
            ],
            "type": "heatmap"
           }
          ],
          "heatmapgl": [
           {
            "colorbar": {
             "outlinewidth": 0,
             "ticks": ""
            },
            "colorscale": [
             [
              0,
              "#0d0887"
             ],
             [
              0.1111111111111111,
              "#46039f"
             ],
             [
              0.2222222222222222,
              "#7201a8"
             ],
             [
              0.3333333333333333,
              "#9c179e"
             ],
             [
              0.4444444444444444,
              "#bd3786"
             ],
             [
              0.5555555555555556,
              "#d8576b"
             ],
             [
              0.6666666666666666,
              "#ed7953"
             ],
             [
              0.7777777777777778,
              "#fb9f3a"
             ],
             [
              0.8888888888888888,
              "#fdca26"
             ],
             [
              1,
              "#f0f921"
             ]
            ],
            "type": "heatmapgl"
           }
          ],
          "histogram": [
           {
            "marker": {
             "pattern": {
              "fillmode": "overlay",
              "size": 10,
              "solidity": 0.2
             }
            },
            "type": "histogram"
           }
          ],
          "histogram2d": [
           {
            "colorbar": {
             "outlinewidth": 0,
             "ticks": ""
            },
            "colorscale": [
             [
              0,
              "#0d0887"
             ],
             [
              0.1111111111111111,
              "#46039f"
             ],
             [
              0.2222222222222222,
              "#7201a8"
             ],
             [
              0.3333333333333333,
              "#9c179e"
             ],
             [
              0.4444444444444444,
              "#bd3786"
             ],
             [
              0.5555555555555556,
              "#d8576b"
             ],
             [
              0.6666666666666666,
              "#ed7953"
             ],
             [
              0.7777777777777778,
              "#fb9f3a"
             ],
             [
              0.8888888888888888,
              "#fdca26"
             ],
             [
              1,
              "#f0f921"
             ]
            ],
            "type": "histogram2d"
           }
          ],
          "histogram2dcontour": [
           {
            "colorbar": {
             "outlinewidth": 0,
             "ticks": ""
            },
            "colorscale": [
             [
              0,
              "#0d0887"
             ],
             [
              0.1111111111111111,
              "#46039f"
             ],
             [
              0.2222222222222222,
              "#7201a8"
             ],
             [
              0.3333333333333333,
              "#9c179e"
             ],
             [
              0.4444444444444444,
              "#bd3786"
             ],
             [
              0.5555555555555556,
              "#d8576b"
             ],
             [
              0.6666666666666666,
              "#ed7953"
             ],
             [
              0.7777777777777778,
              "#fb9f3a"
             ],
             [
              0.8888888888888888,
              "#fdca26"
             ],
             [
              1,
              "#f0f921"
             ]
            ],
            "type": "histogram2dcontour"
           }
          ],
          "mesh3d": [
           {
            "colorbar": {
             "outlinewidth": 0,
             "ticks": ""
            },
            "type": "mesh3d"
           }
          ],
          "parcoords": [
           {
            "line": {
             "colorbar": {
              "outlinewidth": 0,
              "ticks": ""
             }
            },
            "type": "parcoords"
           }
          ],
          "pie": [
           {
            "automargin": true,
            "type": "pie"
           }
          ],
          "scatter": [
           {
            "fillpattern": {
             "fillmode": "overlay",
             "size": 10,
             "solidity": 0.2
            },
            "type": "scatter"
           }
          ],
          "scatter3d": [
           {
            "line": {
             "colorbar": {
              "outlinewidth": 0,
              "ticks": ""
             }
            },
            "marker": {
             "colorbar": {
              "outlinewidth": 0,
              "ticks": ""
             }
            },
            "type": "scatter3d"
           }
          ],
          "scattercarpet": [
           {
            "marker": {
             "colorbar": {
              "outlinewidth": 0,
              "ticks": ""
             }
            },
            "type": "scattercarpet"
           }
          ],
          "scattergeo": [
           {
            "marker": {
             "colorbar": {
              "outlinewidth": 0,
              "ticks": ""
             }
            },
            "type": "scattergeo"
           }
          ],
          "scattergl": [
           {
            "marker": {
             "colorbar": {
              "outlinewidth": 0,
              "ticks": ""
             }
            },
            "type": "scattergl"
           }
          ],
          "scattermapbox": [
           {
            "marker": {
             "colorbar": {
              "outlinewidth": 0,
              "ticks": ""
             }
            },
            "type": "scattermapbox"
           }
          ],
          "scatterpolar": [
           {
            "marker": {
             "colorbar": {
              "outlinewidth": 0,
              "ticks": ""
             }
            },
            "type": "scatterpolar"
           }
          ],
          "scatterpolargl": [
           {
            "marker": {
             "colorbar": {
              "outlinewidth": 0,
              "ticks": ""
             }
            },
            "type": "scatterpolargl"
           }
          ],
          "scatterternary": [
           {
            "marker": {
             "colorbar": {
              "outlinewidth": 0,
              "ticks": ""
             }
            },
            "type": "scatterternary"
           }
          ],
          "surface": [
           {
            "colorbar": {
             "outlinewidth": 0,
             "ticks": ""
            },
            "colorscale": [
             [
              0,
              "#0d0887"
             ],
             [
              0.1111111111111111,
              "#46039f"
             ],
             [
              0.2222222222222222,
              "#7201a8"
             ],
             [
              0.3333333333333333,
              "#9c179e"
             ],
             [
              0.4444444444444444,
              "#bd3786"
             ],
             [
              0.5555555555555556,
              "#d8576b"
             ],
             [
              0.6666666666666666,
              "#ed7953"
             ],
             [
              0.7777777777777778,
              "#fb9f3a"
             ],
             [
              0.8888888888888888,
              "#fdca26"
             ],
             [
              1,
              "#f0f921"
             ]
            ],
            "type": "surface"
           }
          ],
          "table": [
           {
            "cells": {
             "fill": {
              "color": "#EBF0F8"
             },
             "line": {
              "color": "white"
             }
            },
            "header": {
             "fill": {
              "color": "#C8D4E3"
             },
             "line": {
              "color": "white"
             }
            },
            "type": "table"
           }
          ]
         },
         "layout": {
          "annotationdefaults": {
           "arrowcolor": "#2a3f5f",
           "arrowhead": 0,
           "arrowwidth": 1
          },
          "autotypenumbers": "strict",
          "coloraxis": {
           "colorbar": {
            "outlinewidth": 0,
            "ticks": ""
           }
          },
          "colorscale": {
           "diverging": [
            [
             0,
             "#8e0152"
            ],
            [
             0.1,
             "#c51b7d"
            ],
            [
             0.2,
             "#de77ae"
            ],
            [
             0.3,
             "#f1b6da"
            ],
            [
             0.4,
             "#fde0ef"
            ],
            [
             0.5,
             "#f7f7f7"
            ],
            [
             0.6,
             "#e6f5d0"
            ],
            [
             0.7,
             "#b8e186"
            ],
            [
             0.8,
             "#7fbc41"
            ],
            [
             0.9,
             "#4d9221"
            ],
            [
             1,
             "#276419"
            ]
           ],
           "sequential": [
            [
             0,
             "#0d0887"
            ],
            [
             0.1111111111111111,
             "#46039f"
            ],
            [
             0.2222222222222222,
             "#7201a8"
            ],
            [
             0.3333333333333333,
             "#9c179e"
            ],
            [
             0.4444444444444444,
             "#bd3786"
            ],
            [
             0.5555555555555556,
             "#d8576b"
            ],
            [
             0.6666666666666666,
             "#ed7953"
            ],
            [
             0.7777777777777778,
             "#fb9f3a"
            ],
            [
             0.8888888888888888,
             "#fdca26"
            ],
            [
             1,
             "#f0f921"
            ]
           ],
           "sequentialminus": [
            [
             0,
             "#0d0887"
            ],
            [
             0.1111111111111111,
             "#46039f"
            ],
            [
             0.2222222222222222,
             "#7201a8"
            ],
            [
             0.3333333333333333,
             "#9c179e"
            ],
            [
             0.4444444444444444,
             "#bd3786"
            ],
            [
             0.5555555555555556,
             "#d8576b"
            ],
            [
             0.6666666666666666,
             "#ed7953"
            ],
            [
             0.7777777777777778,
             "#fb9f3a"
            ],
            [
             0.8888888888888888,
             "#fdca26"
            ],
            [
             1,
             "#f0f921"
            ]
           ]
          },
          "colorway": [
           "#636efa",
           "#EF553B",
           "#00cc96",
           "#ab63fa",
           "#FFA15A",
           "#19d3f3",
           "#FF6692",
           "#B6E880",
           "#FF97FF",
           "#FECB52"
          ],
          "font": {
           "color": "#2a3f5f"
          },
          "geo": {
           "bgcolor": "white",
           "lakecolor": "white",
           "landcolor": "white",
           "showlakes": true,
           "showland": true,
           "subunitcolor": "#C8D4E3"
          },
          "hoverlabel": {
           "align": "left"
          },
          "hovermode": "closest",
          "mapbox": {
           "style": "light"
          },
          "paper_bgcolor": "white",
          "plot_bgcolor": "white",
          "polar": {
           "angularaxis": {
            "gridcolor": "#EBF0F8",
            "linecolor": "#EBF0F8",
            "ticks": ""
           },
           "bgcolor": "white",
           "radialaxis": {
            "gridcolor": "#EBF0F8",
            "linecolor": "#EBF0F8",
            "ticks": ""
           }
          },
          "scene": {
           "xaxis": {
            "backgroundcolor": "white",
            "gridcolor": "#DFE8F3",
            "gridwidth": 2,
            "linecolor": "#EBF0F8",
            "showbackground": true,
            "ticks": "",
            "zerolinecolor": "#EBF0F8"
           },
           "yaxis": {
            "backgroundcolor": "white",
            "gridcolor": "#DFE8F3",
            "gridwidth": 2,
            "linecolor": "#EBF0F8",
            "showbackground": true,
            "ticks": "",
            "zerolinecolor": "#EBF0F8"
           },
           "zaxis": {
            "backgroundcolor": "white",
            "gridcolor": "#DFE8F3",
            "gridwidth": 2,
            "linecolor": "#EBF0F8",
            "showbackground": true,
            "ticks": "",
            "zerolinecolor": "#EBF0F8"
           }
          },
          "shapedefaults": {
           "line": {
            "color": "#2a3f5f"
           }
          },
          "ternary": {
           "aaxis": {
            "gridcolor": "#DFE8F3",
            "linecolor": "#A2B1C6",
            "ticks": ""
           },
           "baxis": {
            "gridcolor": "#DFE8F3",
            "linecolor": "#A2B1C6",
            "ticks": ""
           },
           "bgcolor": "white",
           "caxis": {
            "gridcolor": "#DFE8F3",
            "linecolor": "#A2B1C6",
            "ticks": ""
           }
          },
          "title": {
           "x": 0.05
          },
          "xaxis": {
           "automargin": true,
           "gridcolor": "#EBF0F8",
           "linecolor": "#EBF0F8",
           "ticks": "",
           "title": {
            "standoff": 15
           },
           "zerolinecolor": "#EBF0F8",
           "zerolinewidth": 2
          },
          "yaxis": {
           "automargin": true,
           "gridcolor": "#EBF0F8",
           "linecolor": "#EBF0F8",
           "ticks": "",
           "title": {
            "standoff": 15
           },
           "zerolinecolor": "#EBF0F8",
           "zerolinewidth": 2
          }
         }
        },
        "title": {
         "text": "Cadangan Devisa BI Menurut Jenis"
        },
        "xaxis": {
         "gridcolor": "LightGray",
         "gridwidth": 0.5,
         "showgrid": true,
         "title": {
          "text": "Year"
         }
        },
        "yaxis": {
         "gridcolor": "LightGray",
         "gridwidth": 0.5,
         "showgrid": true,
         "title": {
          "text": "Foreign Reserves (USD)"
         }
        }
       }
      }
     },
     "metadata": {},
     "output_type": "display_data"
    }
   ],
   "source": [
    "fig = go.Figure()\n",
    "\n",
    "# Foreign Reserves line\n",
    "fig.add_trace(go.Scatter(\n",
    "    x=df_merged.index,\n",
    "    y=df_merged['Cadangan Devisa BI Menurut Jenis'],\n",
    "    mode='lines+markers',\n",
    "    name='Foreign Reserves',\n",
    "    line=dict(color='blue', width=2),\n",
    "    marker=dict(size=6)\n",
    "))\n",
    "\n",
    "fig.update_layout(\n",
    "    title='Cadangan Devisa BI Menurut Jenis',\n",
    "    xaxis_title='Year',\n",
    "    yaxis_title='Foreign Reserves (USD)',\n",
    "    legend_title='Indicator',\n",
    "    template='plotly_white',\n",
    "    font=dict(size=12),\n",
    "    hovermode='x unified'\n",
    ")\n",
    "\n",
    "fig.update_xaxes(showgrid=True, gridwidth=0.5, gridcolor='LightGray')\n",
    "fig.update_yaxes(showgrid=True, gridwidth=0.5, gridcolor='LightGray')\n",
    "\n",
    "fig.show()"
   ]
  },
  {
   "cell_type": "code",
   "execution_count": 19,
   "metadata": {},
   "outputs": [
    {
     "data": {
      "application/vnd.plotly.v1+json": {
       "config": {
        "plotlyServerURL": "https://plot.ly"
       },
       "data": [
        {
         "line": {
          "color": "green",
          "width": 2
         },
         "marker": {
          "size": 6
         },
         "mode": "lines+markers",
         "name": "GDP Growth (YoY)",
         "type": "scatter",
         "x": [
          "2015-01-31T00:00:00",
          "2015-02-28T00:00:00",
          "2015-03-31T00:00:00",
          "2015-04-30T00:00:00",
          "2015-05-31T00:00:00",
          "2015-06-30T00:00:00",
          "2015-07-31T00:00:00",
          "2015-08-31T00:00:00",
          "2015-09-30T00:00:00",
          "2015-10-31T00:00:00",
          "2015-11-30T00:00:00",
          "2015-12-31T00:00:00",
          "2016-01-31T00:00:00",
          "2016-02-29T00:00:00",
          "2016-03-31T00:00:00",
          "2016-04-30T00:00:00",
          "2016-05-31T00:00:00",
          "2016-06-30T00:00:00",
          "2016-07-31T00:00:00",
          "2016-08-31T00:00:00",
          "2016-09-30T00:00:00",
          "2016-10-31T00:00:00",
          "2016-11-30T00:00:00",
          "2016-12-31T00:00:00",
          "2017-01-31T00:00:00",
          "2017-02-28T00:00:00",
          "2017-03-31T00:00:00",
          "2017-04-30T00:00:00",
          "2017-05-31T00:00:00",
          "2017-06-30T00:00:00",
          "2017-07-31T00:00:00",
          "2017-08-31T00:00:00",
          "2017-09-30T00:00:00",
          "2017-10-31T00:00:00",
          "2017-11-30T00:00:00",
          "2017-12-31T00:00:00",
          "2018-01-31T00:00:00",
          "2018-02-28T00:00:00",
          "2018-03-31T00:00:00",
          "2018-04-30T00:00:00",
          "2018-05-31T00:00:00",
          "2018-06-30T00:00:00",
          "2018-07-31T00:00:00",
          "2018-08-31T00:00:00",
          "2018-09-30T00:00:00",
          "2018-10-31T00:00:00",
          "2018-11-30T00:00:00",
          "2018-12-31T00:00:00",
          "2019-01-31T00:00:00",
          "2019-02-28T00:00:00",
          "2019-03-31T00:00:00",
          "2019-04-30T00:00:00",
          "2019-05-31T00:00:00",
          "2019-06-30T00:00:00",
          "2019-07-31T00:00:00",
          "2019-08-31T00:00:00",
          "2019-09-30T00:00:00",
          "2019-10-31T00:00:00",
          "2019-11-30T00:00:00",
          "2019-12-31T00:00:00",
          "2020-01-31T00:00:00",
          "2020-02-29T00:00:00",
          "2020-03-31T00:00:00",
          "2020-04-30T00:00:00",
          "2020-05-31T00:00:00",
          "2020-06-30T00:00:00",
          "2020-07-31T00:00:00",
          "2020-08-31T00:00:00",
          "2020-09-30T00:00:00",
          "2020-10-31T00:00:00",
          "2020-11-30T00:00:00",
          "2020-12-31T00:00:00",
          "2021-01-31T00:00:00",
          "2021-02-28T00:00:00",
          "2021-03-31T00:00:00",
          "2021-04-30T00:00:00",
          "2021-05-31T00:00:00",
          "2021-06-30T00:00:00",
          "2021-07-31T00:00:00",
          "2021-08-31T00:00:00",
          "2021-09-30T00:00:00",
          "2021-10-31T00:00:00",
          "2021-11-30T00:00:00",
          "2021-12-31T00:00:00",
          "2022-01-31T00:00:00",
          "2022-02-28T00:00:00",
          "2022-03-31T00:00:00",
          "2022-04-30T00:00:00",
          "2022-05-31T00:00:00",
          "2022-06-30T00:00:00",
          "2022-07-31T00:00:00",
          "2022-08-31T00:00:00",
          "2022-09-30T00:00:00",
          "2022-10-31T00:00:00",
          "2022-11-30T00:00:00",
          "2022-12-31T00:00:00",
          "2023-01-31T00:00:00",
          "2023-02-28T00:00:00",
          "2023-03-31T00:00:00",
          "2023-04-30T00:00:00",
          "2023-05-31T00:00:00",
          "2023-06-30T00:00:00",
          "2023-07-31T00:00:00",
          "2023-08-31T00:00:00",
          "2023-09-30T00:00:00",
          "2023-10-31T00:00:00",
          "2023-11-30T00:00:00",
          "2023-12-31T00:00:00",
          "2024-01-31T00:00:00",
          "2024-02-29T00:00:00",
          "2024-03-31T00:00:00",
          "2024-04-30T00:00:00",
          "2024-05-31T00:00:00",
          "2024-06-30T00:00:00",
          "2024-07-31T00:00:00",
          "2024-08-31T00:00:00",
          "2024-09-30T00:00:00",
          "2024-10-31T00:00:00",
          "2024-11-30T00:00:00",
          "2024-12-31T00:00:00"
         ],
         "y": [
          4.83,
          4.83,
          4.83,
          4.83,
          4.83,
          4.74,
          4.74,
          4.74,
          4.78,
          4.78,
          4.78,
          5.15,
          5.15,
          5.15,
          4.94,
          4.94,
          4.94,
          5.21,
          5.21,
          5.21,
          5.03,
          5.03,
          5.03,
          4.94,
          4.94,
          4.94,
          5.01,
          5.01,
          5.01,
          5.01,
          5.01,
          5.01,
          5.06,
          5.06,
          5.06,
          5.19,
          5.19,
          5.19,
          5.07,
          5.07,
          5.07,
          5.27,
          5.27,
          5.27,
          5.17,
          5.17,
          5.17,
          5.18,
          5.18,
          5.18,
          5.06,
          5.06,
          5.06,
          5.05,
          5.05,
          5.05,
          5.01,
          5.01,
          5.01,
          4.96,
          4.96,
          4.96,
          2.97,
          2.97,
          2.97,
          -5.32,
          -5.32,
          -5.32,
          -3.49,
          -3.49,
          -3.49,
          -2.17,
          -2.17,
          -2.17,
          -0.69,
          -0.69,
          -0.69,
          7.08,
          7.08,
          7.08,
          3.53,
          3.53,
          3.53,
          5.03,
          5.03,
          5.03,
          5.02,
          5.02,
          5.02,
          5.46,
          5.46,
          5.46,
          5.73,
          5.73,
          5.73,
          5.01,
          5.01,
          5.01,
          5.04,
          5.04,
          5.04,
          5.17,
          5.17,
          5.17,
          4.94,
          4.94,
          4.94,
          5.04,
          5.04,
          5.04,
          5.11,
          5.11,
          5.11,
          5.05,
          5.05,
          5.05,
          5.05,
          5.05,
          5.05,
          5.05
         ]
        }
       ],
       "layout": {
        "font": {
         "size": 12
        },
        "hovermode": "x unified",
        "legend": {
         "title": {
          "text": "Indicator"
         }
        },
        "template": {
         "data": {
          "bar": [
           {
            "error_x": {
             "color": "#2a3f5f"
            },
            "error_y": {
             "color": "#2a3f5f"
            },
            "marker": {
             "line": {
              "color": "white",
              "width": 0.5
             },
             "pattern": {
              "fillmode": "overlay",
              "size": 10,
              "solidity": 0.2
             }
            },
            "type": "bar"
           }
          ],
          "barpolar": [
           {
            "marker": {
             "line": {
              "color": "white",
              "width": 0.5
             },
             "pattern": {
              "fillmode": "overlay",
              "size": 10,
              "solidity": 0.2
             }
            },
            "type": "barpolar"
           }
          ],
          "carpet": [
           {
            "aaxis": {
             "endlinecolor": "#2a3f5f",
             "gridcolor": "#C8D4E3",
             "linecolor": "#C8D4E3",
             "minorgridcolor": "#C8D4E3",
             "startlinecolor": "#2a3f5f"
            },
            "baxis": {
             "endlinecolor": "#2a3f5f",
             "gridcolor": "#C8D4E3",
             "linecolor": "#C8D4E3",
             "minorgridcolor": "#C8D4E3",
             "startlinecolor": "#2a3f5f"
            },
            "type": "carpet"
           }
          ],
          "choropleth": [
           {
            "colorbar": {
             "outlinewidth": 0,
             "ticks": ""
            },
            "type": "choropleth"
           }
          ],
          "contour": [
           {
            "colorbar": {
             "outlinewidth": 0,
             "ticks": ""
            },
            "colorscale": [
             [
              0,
              "#0d0887"
             ],
             [
              0.1111111111111111,
              "#46039f"
             ],
             [
              0.2222222222222222,
              "#7201a8"
             ],
             [
              0.3333333333333333,
              "#9c179e"
             ],
             [
              0.4444444444444444,
              "#bd3786"
             ],
             [
              0.5555555555555556,
              "#d8576b"
             ],
             [
              0.6666666666666666,
              "#ed7953"
             ],
             [
              0.7777777777777778,
              "#fb9f3a"
             ],
             [
              0.8888888888888888,
              "#fdca26"
             ],
             [
              1,
              "#f0f921"
             ]
            ],
            "type": "contour"
           }
          ],
          "contourcarpet": [
           {
            "colorbar": {
             "outlinewidth": 0,
             "ticks": ""
            },
            "type": "contourcarpet"
           }
          ],
          "heatmap": [
           {
            "colorbar": {
             "outlinewidth": 0,
             "ticks": ""
            },
            "colorscale": [
             [
              0,
              "#0d0887"
             ],
             [
              0.1111111111111111,
              "#46039f"
             ],
             [
              0.2222222222222222,
              "#7201a8"
             ],
             [
              0.3333333333333333,
              "#9c179e"
             ],
             [
              0.4444444444444444,
              "#bd3786"
             ],
             [
              0.5555555555555556,
              "#d8576b"
             ],
             [
              0.6666666666666666,
              "#ed7953"
             ],
             [
              0.7777777777777778,
              "#fb9f3a"
             ],
             [
              0.8888888888888888,
              "#fdca26"
             ],
             [
              1,
              "#f0f921"
             ]
            ],
            "type": "heatmap"
           }
          ],
          "heatmapgl": [
           {
            "colorbar": {
             "outlinewidth": 0,
             "ticks": ""
            },
            "colorscale": [
             [
              0,
              "#0d0887"
             ],
             [
              0.1111111111111111,
              "#46039f"
             ],
             [
              0.2222222222222222,
              "#7201a8"
             ],
             [
              0.3333333333333333,
              "#9c179e"
             ],
             [
              0.4444444444444444,
              "#bd3786"
             ],
             [
              0.5555555555555556,
              "#d8576b"
             ],
             [
              0.6666666666666666,
              "#ed7953"
             ],
             [
              0.7777777777777778,
              "#fb9f3a"
             ],
             [
              0.8888888888888888,
              "#fdca26"
             ],
             [
              1,
              "#f0f921"
             ]
            ],
            "type": "heatmapgl"
           }
          ],
          "histogram": [
           {
            "marker": {
             "pattern": {
              "fillmode": "overlay",
              "size": 10,
              "solidity": 0.2
             }
            },
            "type": "histogram"
           }
          ],
          "histogram2d": [
           {
            "colorbar": {
             "outlinewidth": 0,
             "ticks": ""
            },
            "colorscale": [
             [
              0,
              "#0d0887"
             ],
             [
              0.1111111111111111,
              "#46039f"
             ],
             [
              0.2222222222222222,
              "#7201a8"
             ],
             [
              0.3333333333333333,
              "#9c179e"
             ],
             [
              0.4444444444444444,
              "#bd3786"
             ],
             [
              0.5555555555555556,
              "#d8576b"
             ],
             [
              0.6666666666666666,
              "#ed7953"
             ],
             [
              0.7777777777777778,
              "#fb9f3a"
             ],
             [
              0.8888888888888888,
              "#fdca26"
             ],
             [
              1,
              "#f0f921"
             ]
            ],
            "type": "histogram2d"
           }
          ],
          "histogram2dcontour": [
           {
            "colorbar": {
             "outlinewidth": 0,
             "ticks": ""
            },
            "colorscale": [
             [
              0,
              "#0d0887"
             ],
             [
              0.1111111111111111,
              "#46039f"
             ],
             [
              0.2222222222222222,
              "#7201a8"
             ],
             [
              0.3333333333333333,
              "#9c179e"
             ],
             [
              0.4444444444444444,
              "#bd3786"
             ],
             [
              0.5555555555555556,
              "#d8576b"
             ],
             [
              0.6666666666666666,
              "#ed7953"
             ],
             [
              0.7777777777777778,
              "#fb9f3a"
             ],
             [
              0.8888888888888888,
              "#fdca26"
             ],
             [
              1,
              "#f0f921"
             ]
            ],
            "type": "histogram2dcontour"
           }
          ],
          "mesh3d": [
           {
            "colorbar": {
             "outlinewidth": 0,
             "ticks": ""
            },
            "type": "mesh3d"
           }
          ],
          "parcoords": [
           {
            "line": {
             "colorbar": {
              "outlinewidth": 0,
              "ticks": ""
             }
            },
            "type": "parcoords"
           }
          ],
          "pie": [
           {
            "automargin": true,
            "type": "pie"
           }
          ],
          "scatter": [
           {
            "fillpattern": {
             "fillmode": "overlay",
             "size": 10,
             "solidity": 0.2
            },
            "type": "scatter"
           }
          ],
          "scatter3d": [
           {
            "line": {
             "colorbar": {
              "outlinewidth": 0,
              "ticks": ""
             }
            },
            "marker": {
             "colorbar": {
              "outlinewidth": 0,
              "ticks": ""
             }
            },
            "type": "scatter3d"
           }
          ],
          "scattercarpet": [
           {
            "marker": {
             "colorbar": {
              "outlinewidth": 0,
              "ticks": ""
             }
            },
            "type": "scattercarpet"
           }
          ],
          "scattergeo": [
           {
            "marker": {
             "colorbar": {
              "outlinewidth": 0,
              "ticks": ""
             }
            },
            "type": "scattergeo"
           }
          ],
          "scattergl": [
           {
            "marker": {
             "colorbar": {
              "outlinewidth": 0,
              "ticks": ""
             }
            },
            "type": "scattergl"
           }
          ],
          "scattermapbox": [
           {
            "marker": {
             "colorbar": {
              "outlinewidth": 0,
              "ticks": ""
             }
            },
            "type": "scattermapbox"
           }
          ],
          "scatterpolar": [
           {
            "marker": {
             "colorbar": {
              "outlinewidth": 0,
              "ticks": ""
             }
            },
            "type": "scatterpolar"
           }
          ],
          "scatterpolargl": [
           {
            "marker": {
             "colorbar": {
              "outlinewidth": 0,
              "ticks": ""
             }
            },
            "type": "scatterpolargl"
           }
          ],
          "scatterternary": [
           {
            "marker": {
             "colorbar": {
              "outlinewidth": 0,
              "ticks": ""
             }
            },
            "type": "scatterternary"
           }
          ],
          "surface": [
           {
            "colorbar": {
             "outlinewidth": 0,
             "ticks": ""
            },
            "colorscale": [
             [
              0,
              "#0d0887"
             ],
             [
              0.1111111111111111,
              "#46039f"
             ],
             [
              0.2222222222222222,
              "#7201a8"
             ],
             [
              0.3333333333333333,
              "#9c179e"
             ],
             [
              0.4444444444444444,
              "#bd3786"
             ],
             [
              0.5555555555555556,
              "#d8576b"
             ],
             [
              0.6666666666666666,
              "#ed7953"
             ],
             [
              0.7777777777777778,
              "#fb9f3a"
             ],
             [
              0.8888888888888888,
              "#fdca26"
             ],
             [
              1,
              "#f0f921"
             ]
            ],
            "type": "surface"
           }
          ],
          "table": [
           {
            "cells": {
             "fill": {
              "color": "#EBF0F8"
             },
             "line": {
              "color": "white"
             }
            },
            "header": {
             "fill": {
              "color": "#C8D4E3"
             },
             "line": {
              "color": "white"
             }
            },
            "type": "table"
           }
          ]
         },
         "layout": {
          "annotationdefaults": {
           "arrowcolor": "#2a3f5f",
           "arrowhead": 0,
           "arrowwidth": 1
          },
          "autotypenumbers": "strict",
          "coloraxis": {
           "colorbar": {
            "outlinewidth": 0,
            "ticks": ""
           }
          },
          "colorscale": {
           "diverging": [
            [
             0,
             "#8e0152"
            ],
            [
             0.1,
             "#c51b7d"
            ],
            [
             0.2,
             "#de77ae"
            ],
            [
             0.3,
             "#f1b6da"
            ],
            [
             0.4,
             "#fde0ef"
            ],
            [
             0.5,
             "#f7f7f7"
            ],
            [
             0.6,
             "#e6f5d0"
            ],
            [
             0.7,
             "#b8e186"
            ],
            [
             0.8,
             "#7fbc41"
            ],
            [
             0.9,
             "#4d9221"
            ],
            [
             1,
             "#276419"
            ]
           ],
           "sequential": [
            [
             0,
             "#0d0887"
            ],
            [
             0.1111111111111111,
             "#46039f"
            ],
            [
             0.2222222222222222,
             "#7201a8"
            ],
            [
             0.3333333333333333,
             "#9c179e"
            ],
            [
             0.4444444444444444,
             "#bd3786"
            ],
            [
             0.5555555555555556,
             "#d8576b"
            ],
            [
             0.6666666666666666,
             "#ed7953"
            ],
            [
             0.7777777777777778,
             "#fb9f3a"
            ],
            [
             0.8888888888888888,
             "#fdca26"
            ],
            [
             1,
             "#f0f921"
            ]
           ],
           "sequentialminus": [
            [
             0,
             "#0d0887"
            ],
            [
             0.1111111111111111,
             "#46039f"
            ],
            [
             0.2222222222222222,
             "#7201a8"
            ],
            [
             0.3333333333333333,
             "#9c179e"
            ],
            [
             0.4444444444444444,
             "#bd3786"
            ],
            [
             0.5555555555555556,
             "#d8576b"
            ],
            [
             0.6666666666666666,
             "#ed7953"
            ],
            [
             0.7777777777777778,
             "#fb9f3a"
            ],
            [
             0.8888888888888888,
             "#fdca26"
            ],
            [
             1,
             "#f0f921"
            ]
           ]
          },
          "colorway": [
           "#636efa",
           "#EF553B",
           "#00cc96",
           "#ab63fa",
           "#FFA15A",
           "#19d3f3",
           "#FF6692",
           "#B6E880",
           "#FF97FF",
           "#FECB52"
          ],
          "font": {
           "color": "#2a3f5f"
          },
          "geo": {
           "bgcolor": "white",
           "lakecolor": "white",
           "landcolor": "white",
           "showlakes": true,
           "showland": true,
           "subunitcolor": "#C8D4E3"
          },
          "hoverlabel": {
           "align": "left"
          },
          "hovermode": "closest",
          "mapbox": {
           "style": "light"
          },
          "paper_bgcolor": "white",
          "plot_bgcolor": "white",
          "polar": {
           "angularaxis": {
            "gridcolor": "#EBF0F8",
            "linecolor": "#EBF0F8",
            "ticks": ""
           },
           "bgcolor": "white",
           "radialaxis": {
            "gridcolor": "#EBF0F8",
            "linecolor": "#EBF0F8",
            "ticks": ""
           }
          },
          "scene": {
           "xaxis": {
            "backgroundcolor": "white",
            "gridcolor": "#DFE8F3",
            "gridwidth": 2,
            "linecolor": "#EBF0F8",
            "showbackground": true,
            "ticks": "",
            "zerolinecolor": "#EBF0F8"
           },
           "yaxis": {
            "backgroundcolor": "white",
            "gridcolor": "#DFE8F3",
            "gridwidth": 2,
            "linecolor": "#EBF0F8",
            "showbackground": true,
            "ticks": "",
            "zerolinecolor": "#EBF0F8"
           },
           "zaxis": {
            "backgroundcolor": "white",
            "gridcolor": "#DFE8F3",
            "gridwidth": 2,
            "linecolor": "#EBF0F8",
            "showbackground": true,
            "ticks": "",
            "zerolinecolor": "#EBF0F8"
           }
          },
          "shapedefaults": {
           "line": {
            "color": "#2a3f5f"
           }
          },
          "ternary": {
           "aaxis": {
            "gridcolor": "#DFE8F3",
            "linecolor": "#A2B1C6",
            "ticks": ""
           },
           "baxis": {
            "gridcolor": "#DFE8F3",
            "linecolor": "#A2B1C6",
            "ticks": ""
           },
           "bgcolor": "white",
           "caxis": {
            "gridcolor": "#DFE8F3",
            "linecolor": "#A2B1C6",
            "ticks": ""
           }
          },
          "title": {
           "x": 0.05
          },
          "xaxis": {
           "automargin": true,
           "gridcolor": "#EBF0F8",
           "linecolor": "#EBF0F8",
           "ticks": "",
           "title": {
            "standoff": 15
           },
           "zerolinecolor": "#EBF0F8",
           "zerolinewidth": 2
          },
          "yaxis": {
           "automargin": true,
           "gridcolor": "#EBF0F8",
           "linecolor": "#EBF0F8",
           "ticks": "",
           "title": {
            "standoff": 15
           },
           "zerolinecolor": "#EBF0F8",
           "zerolinewidth": 2
          }
         }
        },
        "title": {
         "text": "Pertumbuhan PDB Harga Konstan Menurut Lapangan Usaha Sektoral (Triwulanan YoY)"
        },
        "xaxis": {
         "gridcolor": "LightGray",
         "gridwidth": 0.5,
         "showgrid": true,
         "title": {
          "text": "Year"
         }
        },
        "yaxis": {
         "gridcolor": "LightGray",
         "gridwidth": 0.5,
         "showgrid": true,
         "title": {
          "text": "GDP Growth (%)"
         }
        }
       }
      }
     },
     "metadata": {},
     "output_type": "display_data"
    }
   ],
   "source": [
    "fig = go.Figure()\n",
    "\n",
    "# GDP Growth line\n",
    "fig.add_trace(go.Scatter(\n",
    "    x=df_merged.index,\n",
    "    y=df_merged['Pertumbuhan PDB Harga Konstan Menurut Lapangan Usaha Sektoral (Triwulanan YoY)'],\n",
    "    mode='lines+markers',\n",
    "    name='GDP Growth (YoY)',\n",
    "    line=dict(color='green', width=2),\n",
    "    marker=dict(size=6)\n",
    "))\n",
    "\n",
    "fig.update_layout(\n",
    "    title='Pertumbuhan PDB Harga Konstan Menurut Lapangan Usaha Sektoral (Triwulanan YoY)',\n",
    "    xaxis_title='Year',\n",
    "    yaxis_title='GDP Growth (%)',\n",
    "    legend_title='Indicator',\n",
    "    template='plotly_white',\n",
    "    font=dict(size=12),\n",
    "    hovermode='x unified'\n",
    ")\n",
    "\n",
    "fig.update_xaxes(showgrid=True, gridwidth=0.5, gridcolor='LightGray')\n",
    "fig.update_yaxes(showgrid=True, gridwidth=0.5, gridcolor='LightGray')\n",
    "\n",
    "fig.show()"
   ]
  },
  {
   "cell_type": "code",
   "execution_count": 30,
   "metadata": {},
   "outputs": [
    {
     "data": {
      "application/vnd.plotly.v1+json": {
       "config": {
        "plotlyServerURL": "https://plot.ly"
       },
       "data": [
        {
         "line": {
          "color": "orange",
          "width": 2
         },
         "marker": {
          "size": 6
         },
         "mode": "lines+markers",
         "name": "Exports",
         "type": "scatter",
         "x": [
          "2015-01-31T00:00:00",
          "2015-02-28T00:00:00",
          "2015-03-31T00:00:00",
          "2015-04-30T00:00:00",
          "2015-05-31T00:00:00",
          "2015-06-30T00:00:00",
          "2015-07-31T00:00:00",
          "2015-08-31T00:00:00",
          "2015-09-30T00:00:00",
          "2015-10-31T00:00:00",
          "2015-11-30T00:00:00",
          "2015-12-31T00:00:00",
          "2016-01-31T00:00:00",
          "2016-02-29T00:00:00",
          "2016-03-31T00:00:00",
          "2016-04-30T00:00:00",
          "2016-05-31T00:00:00",
          "2016-06-30T00:00:00",
          "2016-07-31T00:00:00",
          "2016-08-31T00:00:00",
          "2016-09-30T00:00:00",
          "2016-10-31T00:00:00",
          "2016-11-30T00:00:00",
          "2016-12-31T00:00:00",
          "2017-01-31T00:00:00",
          "2017-02-28T00:00:00",
          "2017-03-31T00:00:00",
          "2017-04-30T00:00:00",
          "2017-05-31T00:00:00",
          "2017-06-30T00:00:00",
          "2017-07-31T00:00:00",
          "2017-08-31T00:00:00",
          "2017-09-30T00:00:00",
          "2017-10-31T00:00:00",
          "2017-11-30T00:00:00",
          "2017-12-31T00:00:00",
          "2018-01-31T00:00:00",
          "2018-02-28T00:00:00",
          "2018-03-31T00:00:00",
          "2018-04-30T00:00:00",
          "2018-05-31T00:00:00",
          "2018-06-30T00:00:00",
          "2018-07-31T00:00:00",
          "2018-08-31T00:00:00",
          "2018-09-30T00:00:00",
          "2018-10-31T00:00:00",
          "2018-11-30T00:00:00",
          "2018-12-31T00:00:00",
          "2019-01-31T00:00:00",
          "2019-02-28T00:00:00",
          "2019-03-31T00:00:00",
          "2019-04-30T00:00:00",
          "2019-05-31T00:00:00",
          "2019-06-30T00:00:00",
          "2019-07-31T00:00:00",
          "2019-08-31T00:00:00",
          "2019-09-30T00:00:00",
          "2019-10-31T00:00:00",
          "2019-11-30T00:00:00",
          "2019-12-31T00:00:00",
          "2020-01-31T00:00:00",
          "2020-02-29T00:00:00",
          "2020-03-31T00:00:00",
          "2020-04-30T00:00:00",
          "2020-05-31T00:00:00",
          "2020-06-30T00:00:00",
          "2020-07-31T00:00:00",
          "2020-08-31T00:00:00",
          "2020-09-30T00:00:00",
          "2020-10-31T00:00:00",
          "2020-11-30T00:00:00",
          "2020-12-31T00:00:00",
          "2021-01-31T00:00:00",
          "2021-02-28T00:00:00",
          "2021-03-31T00:00:00",
          "2021-04-30T00:00:00",
          "2021-05-31T00:00:00",
          "2021-06-30T00:00:00",
          "2021-07-31T00:00:00",
          "2021-08-31T00:00:00",
          "2021-09-30T00:00:00",
          "2021-10-31T00:00:00",
          "2021-11-30T00:00:00",
          "2021-12-31T00:00:00",
          "2022-01-31T00:00:00",
          "2022-02-28T00:00:00",
          "2022-03-31T00:00:00",
          "2022-04-30T00:00:00",
          "2022-05-31T00:00:00",
          "2022-06-30T00:00:00",
          "2022-07-31T00:00:00",
          "2022-08-31T00:00:00",
          "2022-09-30T00:00:00",
          "2022-10-31T00:00:00",
          "2022-11-30T00:00:00",
          "2022-12-31T00:00:00",
          "2023-01-31T00:00:00",
          "2023-02-28T00:00:00",
          "2023-03-31T00:00:00",
          "2023-04-30T00:00:00",
          "2023-05-31T00:00:00",
          "2023-06-30T00:00:00",
          "2023-07-31T00:00:00",
          "2023-08-31T00:00:00",
          "2023-09-30T00:00:00",
          "2023-10-31T00:00:00",
          "2023-11-30T00:00:00",
          "2023-12-31T00:00:00",
          "2024-01-31T00:00:00",
          "2024-02-29T00:00:00",
          "2024-03-31T00:00:00",
          "2024-04-30T00:00:00",
          "2024-05-31T00:00:00",
          "2024-06-30T00:00:00",
          "2024-07-31T00:00:00",
          "2024-08-31T00:00:00",
          "2024-09-30T00:00:00",
          "2024-10-31T00:00:00",
          "2024-11-30T00:00:00",
          "2024-12-31T00:00:00"
         ],
         "y": [
          13244900000,
          12172800000,
          13634000000,
          13104600000,
          12754700000,
          13514100000,
          11465800000,
          12726000000,
          12588400000,
          12121700000,
          11122200000,
          11917100000,
          10581900000,
          11316700000,
          11812100000,
          11689700000,
          11517400000,
          13206100000,
          9649500000,
          12701700000,
          12579800000,
          12743700000,
          13502900000,
          13832400000,
          13397700000,
          12616000000,
          14718500000,
          13269700000,
          14333900000,
          11661400000,
          13611100000,
          15188000000,
          14580200000,
          15252600000,
          15334700000,
          14864500000,
          14576300000,
          14132400000,
          15510600000,
          14496200000,
          16198300000,
          12941700000,
          16284700000,
          15865100000,
          14956300000,
          15909100000,
          14851700000,
          14290100000,
          14028100000,
          12788600000,
          14447800000,
          13068100000,
          14751800000,
          11763300000,
          15238400000,
          14262000000,
          14080100000,
          14881500000,
          13944500000,
          14428800000,
          13636400000,
          14042100000,
          14031300000,
          12159800000,
          10452600000,
          12006800000,
          13689900000,
          13055300000,
          13956200000,
          14363400000,
          15258400000,
          16539599999.999998,
          15300200000,
          15255400000,
          18398400000,
          18474100000,
          16908000000,
          18547800000,
          19369600000,
          21443200000,
          20618800000,
          22091000000,
          22845400000,
          22357700000,
          19143200000,
          20489100000,
          26586700000,
          27316200000,
          21493300000,
          26141000000,
          25473400000,
          27928700000,
          24764500000,
          24726300000,
          24059100000,
          23782700000,
          22320700000,
          21319700000,
          23413900000,
          19280400000,
          21706500000,
          20599000000,
          20861300000,
          21996300000,
          20744900000,
          22144500000,
          21995900000,
          22391200000,
          20493100000,
          19272900000,
          22537700000,
          19614900000,
          22325500000,
          20845100000,
          22237300000,
          23440300000,
          22055500000,
          24421600000,
          23998200000,
          23461000000
         ]
        },
        {
         "line": {
          "color": "red",
          "width": 2
         },
         "marker": {
          "size": 6
         },
         "mode": "lines+markers",
         "name": "Imports",
         "type": "scatter",
         "x": [
          "2015-01-31T00:00:00",
          "2015-02-28T00:00:00",
          "2015-03-31T00:00:00",
          "2015-04-30T00:00:00",
          "2015-05-31T00:00:00",
          "2015-06-30T00:00:00",
          "2015-07-31T00:00:00",
          "2015-08-31T00:00:00",
          "2015-09-30T00:00:00",
          "2015-10-31T00:00:00",
          "2015-11-30T00:00:00",
          "2015-12-31T00:00:00",
          "2016-01-31T00:00:00",
          "2016-02-29T00:00:00",
          "2016-03-31T00:00:00",
          "2016-04-30T00:00:00",
          "2016-05-31T00:00:00",
          "2016-06-30T00:00:00",
          "2016-07-31T00:00:00",
          "2016-08-31T00:00:00",
          "2016-09-30T00:00:00",
          "2016-10-31T00:00:00",
          "2016-11-30T00:00:00",
          "2016-12-31T00:00:00",
          "2017-01-31T00:00:00",
          "2017-02-28T00:00:00",
          "2017-03-31T00:00:00",
          "2017-04-30T00:00:00",
          "2017-05-31T00:00:00",
          "2017-06-30T00:00:00",
          "2017-07-31T00:00:00",
          "2017-08-31T00:00:00",
          "2017-09-30T00:00:00",
          "2017-10-31T00:00:00",
          "2017-11-30T00:00:00",
          "2017-12-31T00:00:00",
          "2018-01-31T00:00:00",
          "2018-02-28T00:00:00",
          "2018-03-31T00:00:00",
          "2018-04-30T00:00:00",
          "2018-05-31T00:00:00",
          "2018-06-30T00:00:00",
          "2018-07-31T00:00:00",
          "2018-08-31T00:00:00",
          "2018-09-30T00:00:00",
          "2018-10-31T00:00:00",
          "2018-11-30T00:00:00",
          "2018-12-31T00:00:00",
          "2019-01-31T00:00:00",
          "2019-02-28T00:00:00",
          "2019-03-31T00:00:00",
          "2019-04-30T00:00:00",
          "2019-05-31T00:00:00",
          "2019-06-30T00:00:00",
          "2019-07-31T00:00:00",
          "2019-08-31T00:00:00",
          "2019-09-30T00:00:00",
          "2019-10-31T00:00:00",
          "2019-11-30T00:00:00",
          "2019-12-31T00:00:00",
          "2020-01-31T00:00:00",
          "2020-02-29T00:00:00",
          "2020-03-31T00:00:00",
          "2020-04-30T00:00:00",
          "2020-05-31T00:00:00",
          "2020-06-30T00:00:00",
          "2020-07-31T00:00:00",
          "2020-08-31T00:00:00",
          "2020-09-30T00:00:00",
          "2020-10-31T00:00:00",
          "2020-11-30T00:00:00",
          "2020-12-31T00:00:00",
          "2021-01-31T00:00:00",
          "2021-02-28T00:00:00",
          "2021-03-31T00:00:00",
          "2021-04-30T00:00:00",
          "2021-05-31T00:00:00",
          "2021-06-30T00:00:00",
          "2021-07-31T00:00:00",
          "2021-08-31T00:00:00",
          "2021-09-30T00:00:00",
          "2021-10-31T00:00:00",
          "2021-11-30T00:00:00",
          "2021-12-31T00:00:00",
          "2022-01-31T00:00:00",
          "2022-02-28T00:00:00",
          "2022-03-31T00:00:00",
          "2022-04-30T00:00:00",
          "2022-05-31T00:00:00",
          "2022-06-30T00:00:00",
          "2022-07-31T00:00:00",
          "2022-08-31T00:00:00",
          "2022-09-30T00:00:00",
          "2022-10-31T00:00:00",
          "2022-11-30T00:00:00",
          "2022-12-31T00:00:00",
          "2023-01-31T00:00:00",
          "2023-02-28T00:00:00",
          "2023-03-31T00:00:00",
          "2023-04-30T00:00:00",
          "2023-05-31T00:00:00",
          "2023-06-30T00:00:00",
          "2023-07-31T00:00:00",
          "2023-08-31T00:00:00",
          "2023-09-30T00:00:00",
          "2023-10-31T00:00:00",
          "2023-11-30T00:00:00",
          "2023-12-31T00:00:00",
          "2024-01-31T00:00:00",
          "2024-02-29T00:00:00",
          "2024-03-31T00:00:00",
          "2024-04-30T00:00:00",
          "2024-05-31T00:00:00",
          "2024-06-30T00:00:00",
          "2024-07-31T00:00:00",
          "2024-08-31T00:00:00",
          "2024-09-30T00:00:00",
          "2024-10-31T00:00:00",
          "2024-11-30T00:00:00",
          "2024-12-31T00:00:00"
         ],
         "y": [
          12612300000,
          11510100000,
          12608700000,
          12626300000,
          11613600000,
          12978100000,
          10081900000,
          12399200000,
          11558600000,
          11108900000,
          11519500000,
          12077300000,
          10467000000,
          10175600000,
          11301700000,
          10813600000,
          11140700000,
          12095200000,
          9017200000,
          12385200000,
          11297500000,
          11507200000,
          12669400000,
          12782500000,
          11973800000,
          11359400000,
          13283200000,
          11950600000,
          13772500000,
          9991600000,
          13889800000,
          13509200000,
          12788200000,
          14249200000,
          15113500000,
          15104500000,
          15309400000,
          14185500000,
          14463600000,
          16162300000,
          17662900000,
          11267900000,
          18297100000,
          16818099999.999998,
          14610100000,
          17667600000,
          16901800000,
          15364000000,
          15005200000,
          12465100000,
          13746600000,
          15399100000,
          14606700000,
          11495400000,
          15518500000,
          14169400000,
          14263400000,
          14759100000,
          15340500000,
          14506800000,
          14268700000,
          11548100000,
          13352200000,
          12535200000,
          8438600000,
          10760300000,
          10464300000,
          10742400000,
          11570100000,
          10786000000,
          12664400000,
          14438400000,
          13329900000,
          13265000000,
          16787500000,
          16204300000,
          14234800000,
          17218500000,
          15263100000,
          16678900000.000002,
          16234100000,
          16293600000,
          19328200000,
          21352000000,
          18211100000,
          16638500000,
          21962400000,
          19757500000,
          18609300000,
          21003900000,
          21345000000,
          22150600000,
          19808300000,
          19135400000,
          18962100000,
          19863100000,
          18442900000,
          15919200000,
          20588100000,
          15347600000,
          21279600000,
          17150500000,
          19570300000,
          18879800000,
          17341600000,
          18672900000,
          19586500000,
          19106700000,
          18494500000,
          18440200000,
          17961100000,
          16895599999.999998,
          19399500000,
          18450300000,
          21736400000,
          20665200000,
          18824600000,
          21938300000,
          19631700000,
          21222100000
         ]
        }
       ],
       "layout": {
        "font": {
         "size": 12
        },
        "hovermode": "x unified",
        "legend": {
         "title": {
          "text": "Categories"
         }
        },
        "template": {
         "data": {
          "bar": [
           {
            "error_x": {
             "color": "#2a3f5f"
            },
            "error_y": {
             "color": "#2a3f5f"
            },
            "marker": {
             "line": {
              "color": "white",
              "width": 0.5
             },
             "pattern": {
              "fillmode": "overlay",
              "size": 10,
              "solidity": 0.2
             }
            },
            "type": "bar"
           }
          ],
          "barpolar": [
           {
            "marker": {
             "line": {
              "color": "white",
              "width": 0.5
             },
             "pattern": {
              "fillmode": "overlay",
              "size": 10,
              "solidity": 0.2
             }
            },
            "type": "barpolar"
           }
          ],
          "carpet": [
           {
            "aaxis": {
             "endlinecolor": "#2a3f5f",
             "gridcolor": "#C8D4E3",
             "linecolor": "#C8D4E3",
             "minorgridcolor": "#C8D4E3",
             "startlinecolor": "#2a3f5f"
            },
            "baxis": {
             "endlinecolor": "#2a3f5f",
             "gridcolor": "#C8D4E3",
             "linecolor": "#C8D4E3",
             "minorgridcolor": "#C8D4E3",
             "startlinecolor": "#2a3f5f"
            },
            "type": "carpet"
           }
          ],
          "choropleth": [
           {
            "colorbar": {
             "outlinewidth": 0,
             "ticks": ""
            },
            "type": "choropleth"
           }
          ],
          "contour": [
           {
            "colorbar": {
             "outlinewidth": 0,
             "ticks": ""
            },
            "colorscale": [
             [
              0,
              "#0d0887"
             ],
             [
              0.1111111111111111,
              "#46039f"
             ],
             [
              0.2222222222222222,
              "#7201a8"
             ],
             [
              0.3333333333333333,
              "#9c179e"
             ],
             [
              0.4444444444444444,
              "#bd3786"
             ],
             [
              0.5555555555555556,
              "#d8576b"
             ],
             [
              0.6666666666666666,
              "#ed7953"
             ],
             [
              0.7777777777777778,
              "#fb9f3a"
             ],
             [
              0.8888888888888888,
              "#fdca26"
             ],
             [
              1,
              "#f0f921"
             ]
            ],
            "type": "contour"
           }
          ],
          "contourcarpet": [
           {
            "colorbar": {
             "outlinewidth": 0,
             "ticks": ""
            },
            "type": "contourcarpet"
           }
          ],
          "heatmap": [
           {
            "colorbar": {
             "outlinewidth": 0,
             "ticks": ""
            },
            "colorscale": [
             [
              0,
              "#0d0887"
             ],
             [
              0.1111111111111111,
              "#46039f"
             ],
             [
              0.2222222222222222,
              "#7201a8"
             ],
             [
              0.3333333333333333,
              "#9c179e"
             ],
             [
              0.4444444444444444,
              "#bd3786"
             ],
             [
              0.5555555555555556,
              "#d8576b"
             ],
             [
              0.6666666666666666,
              "#ed7953"
             ],
             [
              0.7777777777777778,
              "#fb9f3a"
             ],
             [
              0.8888888888888888,
              "#fdca26"
             ],
             [
              1,
              "#f0f921"
             ]
            ],
            "type": "heatmap"
           }
          ],
          "heatmapgl": [
           {
            "colorbar": {
             "outlinewidth": 0,
             "ticks": ""
            },
            "colorscale": [
             [
              0,
              "#0d0887"
             ],
             [
              0.1111111111111111,
              "#46039f"
             ],
             [
              0.2222222222222222,
              "#7201a8"
             ],
             [
              0.3333333333333333,
              "#9c179e"
             ],
             [
              0.4444444444444444,
              "#bd3786"
             ],
             [
              0.5555555555555556,
              "#d8576b"
             ],
             [
              0.6666666666666666,
              "#ed7953"
             ],
             [
              0.7777777777777778,
              "#fb9f3a"
             ],
             [
              0.8888888888888888,
              "#fdca26"
             ],
             [
              1,
              "#f0f921"
             ]
            ],
            "type": "heatmapgl"
           }
          ],
          "histogram": [
           {
            "marker": {
             "pattern": {
              "fillmode": "overlay",
              "size": 10,
              "solidity": 0.2
             }
            },
            "type": "histogram"
           }
          ],
          "histogram2d": [
           {
            "colorbar": {
             "outlinewidth": 0,
             "ticks": ""
            },
            "colorscale": [
             [
              0,
              "#0d0887"
             ],
             [
              0.1111111111111111,
              "#46039f"
             ],
             [
              0.2222222222222222,
              "#7201a8"
             ],
             [
              0.3333333333333333,
              "#9c179e"
             ],
             [
              0.4444444444444444,
              "#bd3786"
             ],
             [
              0.5555555555555556,
              "#d8576b"
             ],
             [
              0.6666666666666666,
              "#ed7953"
             ],
             [
              0.7777777777777778,
              "#fb9f3a"
             ],
             [
              0.8888888888888888,
              "#fdca26"
             ],
             [
              1,
              "#f0f921"
             ]
            ],
            "type": "histogram2d"
           }
          ],
          "histogram2dcontour": [
           {
            "colorbar": {
             "outlinewidth": 0,
             "ticks": ""
            },
            "colorscale": [
             [
              0,
              "#0d0887"
             ],
             [
              0.1111111111111111,
              "#46039f"
             ],
             [
              0.2222222222222222,
              "#7201a8"
             ],
             [
              0.3333333333333333,
              "#9c179e"
             ],
             [
              0.4444444444444444,
              "#bd3786"
             ],
             [
              0.5555555555555556,
              "#d8576b"
             ],
             [
              0.6666666666666666,
              "#ed7953"
             ],
             [
              0.7777777777777778,
              "#fb9f3a"
             ],
             [
              0.8888888888888888,
              "#fdca26"
             ],
             [
              1,
              "#f0f921"
             ]
            ],
            "type": "histogram2dcontour"
           }
          ],
          "mesh3d": [
           {
            "colorbar": {
             "outlinewidth": 0,
             "ticks": ""
            },
            "type": "mesh3d"
           }
          ],
          "parcoords": [
           {
            "line": {
             "colorbar": {
              "outlinewidth": 0,
              "ticks": ""
             }
            },
            "type": "parcoords"
           }
          ],
          "pie": [
           {
            "automargin": true,
            "type": "pie"
           }
          ],
          "scatter": [
           {
            "fillpattern": {
             "fillmode": "overlay",
             "size": 10,
             "solidity": 0.2
            },
            "type": "scatter"
           }
          ],
          "scatter3d": [
           {
            "line": {
             "colorbar": {
              "outlinewidth": 0,
              "ticks": ""
             }
            },
            "marker": {
             "colorbar": {
              "outlinewidth": 0,
              "ticks": ""
             }
            },
            "type": "scatter3d"
           }
          ],
          "scattercarpet": [
           {
            "marker": {
             "colorbar": {
              "outlinewidth": 0,
              "ticks": ""
             }
            },
            "type": "scattercarpet"
           }
          ],
          "scattergeo": [
           {
            "marker": {
             "colorbar": {
              "outlinewidth": 0,
              "ticks": ""
             }
            },
            "type": "scattergeo"
           }
          ],
          "scattergl": [
           {
            "marker": {
             "colorbar": {
              "outlinewidth": 0,
              "ticks": ""
             }
            },
            "type": "scattergl"
           }
          ],
          "scattermapbox": [
           {
            "marker": {
             "colorbar": {
              "outlinewidth": 0,
              "ticks": ""
             }
            },
            "type": "scattermapbox"
           }
          ],
          "scatterpolar": [
           {
            "marker": {
             "colorbar": {
              "outlinewidth": 0,
              "ticks": ""
             }
            },
            "type": "scatterpolar"
           }
          ],
          "scatterpolargl": [
           {
            "marker": {
             "colorbar": {
              "outlinewidth": 0,
              "ticks": ""
             }
            },
            "type": "scatterpolargl"
           }
          ],
          "scatterternary": [
           {
            "marker": {
             "colorbar": {
              "outlinewidth": 0,
              "ticks": ""
             }
            },
            "type": "scatterternary"
           }
          ],
          "surface": [
           {
            "colorbar": {
             "outlinewidth": 0,
             "ticks": ""
            },
            "colorscale": [
             [
              0,
              "#0d0887"
             ],
             [
              0.1111111111111111,
              "#46039f"
             ],
             [
              0.2222222222222222,
              "#7201a8"
             ],
             [
              0.3333333333333333,
              "#9c179e"
             ],
             [
              0.4444444444444444,
              "#bd3786"
             ],
             [
              0.5555555555555556,
              "#d8576b"
             ],
             [
              0.6666666666666666,
              "#ed7953"
             ],
             [
              0.7777777777777778,
              "#fb9f3a"
             ],
             [
              0.8888888888888888,
              "#fdca26"
             ],
             [
              1,
              "#f0f921"
             ]
            ],
            "type": "surface"
           }
          ],
          "table": [
           {
            "cells": {
             "fill": {
              "color": "#EBF0F8"
             },
             "line": {
              "color": "white"
             }
            },
            "header": {
             "fill": {
              "color": "#C8D4E3"
             },
             "line": {
              "color": "white"
             }
            },
            "type": "table"
           }
          ]
         },
         "layout": {
          "annotationdefaults": {
           "arrowcolor": "#2a3f5f",
           "arrowhead": 0,
           "arrowwidth": 1
          },
          "autotypenumbers": "strict",
          "coloraxis": {
           "colorbar": {
            "outlinewidth": 0,
            "ticks": ""
           }
          },
          "colorscale": {
           "diverging": [
            [
             0,
             "#8e0152"
            ],
            [
             0.1,
             "#c51b7d"
            ],
            [
             0.2,
             "#de77ae"
            ],
            [
             0.3,
             "#f1b6da"
            ],
            [
             0.4,
             "#fde0ef"
            ],
            [
             0.5,
             "#f7f7f7"
            ],
            [
             0.6,
             "#e6f5d0"
            ],
            [
             0.7,
             "#b8e186"
            ],
            [
             0.8,
             "#7fbc41"
            ],
            [
             0.9,
             "#4d9221"
            ],
            [
             1,
             "#276419"
            ]
           ],
           "sequential": [
            [
             0,
             "#0d0887"
            ],
            [
             0.1111111111111111,
             "#46039f"
            ],
            [
             0.2222222222222222,
             "#7201a8"
            ],
            [
             0.3333333333333333,
             "#9c179e"
            ],
            [
             0.4444444444444444,
             "#bd3786"
            ],
            [
             0.5555555555555556,
             "#d8576b"
            ],
            [
             0.6666666666666666,
             "#ed7953"
            ],
            [
             0.7777777777777778,
             "#fb9f3a"
            ],
            [
             0.8888888888888888,
             "#fdca26"
            ],
            [
             1,
             "#f0f921"
            ]
           ],
           "sequentialminus": [
            [
             0,
             "#0d0887"
            ],
            [
             0.1111111111111111,
             "#46039f"
            ],
            [
             0.2222222222222222,
             "#7201a8"
            ],
            [
             0.3333333333333333,
             "#9c179e"
            ],
            [
             0.4444444444444444,
             "#bd3786"
            ],
            [
             0.5555555555555556,
             "#d8576b"
            ],
            [
             0.6666666666666666,
             "#ed7953"
            ],
            [
             0.7777777777777778,
             "#fb9f3a"
            ],
            [
             0.8888888888888888,
             "#fdca26"
            ],
            [
             1,
             "#f0f921"
            ]
           ]
          },
          "colorway": [
           "#636efa",
           "#EF553B",
           "#00cc96",
           "#ab63fa",
           "#FFA15A",
           "#19d3f3",
           "#FF6692",
           "#B6E880",
           "#FF97FF",
           "#FECB52"
          ],
          "font": {
           "color": "#2a3f5f"
          },
          "geo": {
           "bgcolor": "white",
           "lakecolor": "white",
           "landcolor": "white",
           "showlakes": true,
           "showland": true,
           "subunitcolor": "#C8D4E3"
          },
          "hoverlabel": {
           "align": "left"
          },
          "hovermode": "closest",
          "mapbox": {
           "style": "light"
          },
          "paper_bgcolor": "white",
          "plot_bgcolor": "white",
          "polar": {
           "angularaxis": {
            "gridcolor": "#EBF0F8",
            "linecolor": "#EBF0F8",
            "ticks": ""
           },
           "bgcolor": "white",
           "radialaxis": {
            "gridcolor": "#EBF0F8",
            "linecolor": "#EBF0F8",
            "ticks": ""
           }
          },
          "scene": {
           "xaxis": {
            "backgroundcolor": "white",
            "gridcolor": "#DFE8F3",
            "gridwidth": 2,
            "linecolor": "#EBF0F8",
            "showbackground": true,
            "ticks": "",
            "zerolinecolor": "#EBF0F8"
           },
           "yaxis": {
            "backgroundcolor": "white",
            "gridcolor": "#DFE8F3",
            "gridwidth": 2,
            "linecolor": "#EBF0F8",
            "showbackground": true,
            "ticks": "",
            "zerolinecolor": "#EBF0F8"
           },
           "zaxis": {
            "backgroundcolor": "white",
            "gridcolor": "#DFE8F3",
            "gridwidth": 2,
            "linecolor": "#EBF0F8",
            "showbackground": true,
            "ticks": "",
            "zerolinecolor": "#EBF0F8"
           }
          },
          "shapedefaults": {
           "line": {
            "color": "#2a3f5f"
           }
          },
          "ternary": {
           "aaxis": {
            "gridcolor": "#DFE8F3",
            "linecolor": "#A2B1C6",
            "ticks": ""
           },
           "baxis": {
            "gridcolor": "#DFE8F3",
            "linecolor": "#A2B1C6",
            "ticks": ""
           },
           "bgcolor": "white",
           "caxis": {
            "gridcolor": "#DFE8F3",
            "linecolor": "#A2B1C6",
            "ticks": ""
           }
          },
          "title": {
           "x": 0.05
          },
          "xaxis": {
           "automargin": true,
           "gridcolor": "#EBF0F8",
           "linecolor": "#EBF0F8",
           "ticks": "",
           "title": {
            "standoff": 15
           },
           "zerolinecolor": "#EBF0F8",
           "zerolinewidth": 2
          },
          "yaxis": {
           "automargin": true,
           "gridcolor": "#EBF0F8",
           "linecolor": "#EBF0F8",
           "ticks": "",
           "title": {
            "standoff": 15
           },
           "zerolinecolor": "#EBF0F8",
           "zerolinewidth": 2
          }
         }
        },
        "title": {
         "text": "Total Nilai Ekspor dan Import Bulanan (2015-2025)"
        },
        "xaxis": {
         "gridcolor": "LightGray",
         "gridwidth": 0.5,
         "showgrid": true,
         "title": {
          "text": "Year"
         }
        },
        "yaxis": {
         "gridcolor": "LightGray",
         "gridwidth": 0.5,
         "showgrid": true,
         "title": {
          "text": "Value (USD, in billions)"
         }
        }
       }
      }
     },
     "metadata": {},
     "output_type": "display_data"
    }
   ],
   "source": [
    "fig = go.Figure()\n",
    "\n",
    "# Exports line\n",
    "fig.add_trace(go.Scatter(\n",
    "    x=df_merged.index,\n",
    "    y=df_merged['Total Nilai Ekspor Bulanan'],\n",
    "    mode='lines+markers',\n",
    "    name='Exports',\n",
    "    line=dict(color='orange', width=2),\n",
    "    marker=dict(size=6)\n",
    "))\n",
    "\n",
    "# Imports line\n",
    "fig.add_trace(go.Scatter(\n",
    "    x=df_merged.index,\n",
    "    y=df_merged['Total Nilai Impor Bulanan'],\n",
    "    mode='lines+markers',\n",
    "    name='Imports',\n",
    "    line=dict(color='red', width=2),\n",
    "    marker=dict(size=6)\n",
    "))\n",
    "\n",
    "fig.update_layout(\n",
    "    title='Total Nilai Ekspor dan Import Bulanan (2015-2025)',\n",
    "    xaxis_title='Year',\n",
    "    yaxis_title='Value (USD, in billions)',\n",
    "    legend_title='Categories',\n",
    "    template='plotly_white',\n",
    "    font=dict(size=12),\n",
    "    hovermode='x unified'\n",
    ")\n",
    "\n",
    "fig.update_xaxes(showgrid=True, gridwidth=0.5, gridcolor='LightGray')\n",
    "fig.update_yaxes(showgrid=True, gridwidth=0.5, gridcolor='LightGray')\n",
    "\n",
    "fig.show()"
   ]
  },
  {
   "cell_type": "markdown",
   "metadata": {},
   "source": [
    "### Correlation Plot"
   ]
  },
  {
   "cell_type": "code",
   "execution_count": 21,
   "metadata": {},
   "outputs": [
    {
     "data": {
      "application/vnd.plotly.v1+json": {
       "config": {
        "plotlyServerURL": "https://plot.ly"
       },
       "data": [
        {
         "coloraxis": "coloraxis",
         "hovertemplate": "x: %{x}<br>y: %{y}<br>color: %{z}<extra></extra>",
         "name": "0",
         "texttemplate": "%{z:.2f}",
         "type": "heatmap",
         "x": [
          "Cadangan Devisa BI Menurut Jenis",
          "Pertumbuhan PDB Harga Konstan Menurut Lapangan Usaha Sektoral (Triwulanan YoY)",
          "Total Nilai Ekspor Bulanan",
          "Total Nilai Impor Bulanan",
          "Terakhir",
          "Tertinggi",
          "Terendah"
         ],
         "xaxis": "x",
         "y": [
          "Cadangan Devisa BI Menurut Jenis",
          "Pertumbuhan PDB Harga Konstan Menurut Lapangan Usaha Sektoral (Triwulanan YoY)",
          "Total Nilai Ekspor Bulanan",
          "Total Nilai Impor Bulanan",
          "Terakhir",
          "Tertinggi",
          "Terendah"
         ],
         "yaxis": "y",
         "z": [
          [
           1,
           -0.1716420000024178,
           0.7534701088224722,
           0.6835551913234168,
           0.6331002929006218,
           0.6028683795254796,
           0.7003094603479662
          ],
          [
           -0.1716420000024178,
           1,
           0.18153306546255749,
           0.29354000652152756,
           -0.00920238104893616,
           -0.055930992622471545,
           -0.005781750371271124
          ],
          [
           0.7534701088224722,
           0.18153306546255749,
           1,
           0.9218013840004597,
           0.6957215094310062,
           0.6353141554024688,
           0.730992013045887
          ],
          [
           0.6835551913234168,
           0.29354000652152756,
           0.9218013840004597,
           1,
           0.6793954215429941,
           0.6254749169569341,
           0.718512198606129
          ],
          [
           0.6331002929006218,
           -0.00920238104893616,
           0.6957215094310062,
           0.6793954215429941,
           1,
           0.9670376433101693,
           0.9621761215312807
          ],
          [
           0.6028683795254796,
           -0.055930992622471545,
           0.6353141554024688,
           0.6254749169569341,
           0.9670376433101693,
           1,
           0.9429607505722825
          ],
          [
           0.7003094603479662,
           -0.005781750371271124,
           0.730992013045887,
           0.718512198606129,
           0.9621761215312807,
           0.9429607505722825,
           1
          ]
         ]
        }
       ],
       "layout": {
        "coloraxis": {
         "colorbar": {
          "title": {
           "text": "Correlation"
          }
         },
         "colorscale": [
          [
           0,
           "rgb(103,0,31)"
          ],
          [
           0.1,
           "rgb(178,24,43)"
          ],
          [
           0.2,
           "rgb(214,96,77)"
          ],
          [
           0.3,
           "rgb(244,165,130)"
          ],
          [
           0.4,
           "rgb(253,219,199)"
          ],
          [
           0.5,
           "rgb(247,247,247)"
          ],
          [
           0.6,
           "rgb(209,229,240)"
          ],
          [
           0.7,
           "rgb(146,197,222)"
          ],
          [
           0.8,
           "rgb(67,147,195)"
          ],
          [
           0.9,
           "rgb(33,102,172)"
          ],
          [
           1,
           "rgb(5,48,97)"
          ]
         ]
        },
        "font": {
         "size": 14
        },
        "height": 900,
        "template": {
         "data": {
          "bar": [
           {
            "error_x": {
             "color": "#2a3f5f"
            },
            "error_y": {
             "color": "#2a3f5f"
            },
            "marker": {
             "line": {
              "color": "#E5ECF6",
              "width": 0.5
             },
             "pattern": {
              "fillmode": "overlay",
              "size": 10,
              "solidity": 0.2
             }
            },
            "type": "bar"
           }
          ],
          "barpolar": [
           {
            "marker": {
             "line": {
              "color": "#E5ECF6",
              "width": 0.5
             },
             "pattern": {
              "fillmode": "overlay",
              "size": 10,
              "solidity": 0.2
             }
            },
            "type": "barpolar"
           }
          ],
          "carpet": [
           {
            "aaxis": {
             "endlinecolor": "#2a3f5f",
             "gridcolor": "white",
             "linecolor": "white",
             "minorgridcolor": "white",
             "startlinecolor": "#2a3f5f"
            },
            "baxis": {
             "endlinecolor": "#2a3f5f",
             "gridcolor": "white",
             "linecolor": "white",
             "minorgridcolor": "white",
             "startlinecolor": "#2a3f5f"
            },
            "type": "carpet"
           }
          ],
          "choropleth": [
           {
            "colorbar": {
             "outlinewidth": 0,
             "ticks": ""
            },
            "type": "choropleth"
           }
          ],
          "contour": [
           {
            "colorbar": {
             "outlinewidth": 0,
             "ticks": ""
            },
            "colorscale": [
             [
              0,
              "#0d0887"
             ],
             [
              0.1111111111111111,
              "#46039f"
             ],
             [
              0.2222222222222222,
              "#7201a8"
             ],
             [
              0.3333333333333333,
              "#9c179e"
             ],
             [
              0.4444444444444444,
              "#bd3786"
             ],
             [
              0.5555555555555556,
              "#d8576b"
             ],
             [
              0.6666666666666666,
              "#ed7953"
             ],
             [
              0.7777777777777778,
              "#fb9f3a"
             ],
             [
              0.8888888888888888,
              "#fdca26"
             ],
             [
              1,
              "#f0f921"
             ]
            ],
            "type": "contour"
           }
          ],
          "contourcarpet": [
           {
            "colorbar": {
             "outlinewidth": 0,
             "ticks": ""
            },
            "type": "contourcarpet"
           }
          ],
          "heatmap": [
           {
            "colorbar": {
             "outlinewidth": 0,
             "ticks": ""
            },
            "colorscale": [
             [
              0,
              "#0d0887"
             ],
             [
              0.1111111111111111,
              "#46039f"
             ],
             [
              0.2222222222222222,
              "#7201a8"
             ],
             [
              0.3333333333333333,
              "#9c179e"
             ],
             [
              0.4444444444444444,
              "#bd3786"
             ],
             [
              0.5555555555555556,
              "#d8576b"
             ],
             [
              0.6666666666666666,
              "#ed7953"
             ],
             [
              0.7777777777777778,
              "#fb9f3a"
             ],
             [
              0.8888888888888888,
              "#fdca26"
             ],
             [
              1,
              "#f0f921"
             ]
            ],
            "type": "heatmap"
           }
          ],
          "heatmapgl": [
           {
            "colorbar": {
             "outlinewidth": 0,
             "ticks": ""
            },
            "colorscale": [
             [
              0,
              "#0d0887"
             ],
             [
              0.1111111111111111,
              "#46039f"
             ],
             [
              0.2222222222222222,
              "#7201a8"
             ],
             [
              0.3333333333333333,
              "#9c179e"
             ],
             [
              0.4444444444444444,
              "#bd3786"
             ],
             [
              0.5555555555555556,
              "#d8576b"
             ],
             [
              0.6666666666666666,
              "#ed7953"
             ],
             [
              0.7777777777777778,
              "#fb9f3a"
             ],
             [
              0.8888888888888888,
              "#fdca26"
             ],
             [
              1,
              "#f0f921"
             ]
            ],
            "type": "heatmapgl"
           }
          ],
          "histogram": [
           {
            "marker": {
             "pattern": {
              "fillmode": "overlay",
              "size": 10,
              "solidity": 0.2
             }
            },
            "type": "histogram"
           }
          ],
          "histogram2d": [
           {
            "colorbar": {
             "outlinewidth": 0,
             "ticks": ""
            },
            "colorscale": [
             [
              0,
              "#0d0887"
             ],
             [
              0.1111111111111111,
              "#46039f"
             ],
             [
              0.2222222222222222,
              "#7201a8"
             ],
             [
              0.3333333333333333,
              "#9c179e"
             ],
             [
              0.4444444444444444,
              "#bd3786"
             ],
             [
              0.5555555555555556,
              "#d8576b"
             ],
             [
              0.6666666666666666,
              "#ed7953"
             ],
             [
              0.7777777777777778,
              "#fb9f3a"
             ],
             [
              0.8888888888888888,
              "#fdca26"
             ],
             [
              1,
              "#f0f921"
             ]
            ],
            "type": "histogram2d"
           }
          ],
          "histogram2dcontour": [
           {
            "colorbar": {
             "outlinewidth": 0,
             "ticks": ""
            },
            "colorscale": [
             [
              0,
              "#0d0887"
             ],
             [
              0.1111111111111111,
              "#46039f"
             ],
             [
              0.2222222222222222,
              "#7201a8"
             ],
             [
              0.3333333333333333,
              "#9c179e"
             ],
             [
              0.4444444444444444,
              "#bd3786"
             ],
             [
              0.5555555555555556,
              "#d8576b"
             ],
             [
              0.6666666666666666,
              "#ed7953"
             ],
             [
              0.7777777777777778,
              "#fb9f3a"
             ],
             [
              0.8888888888888888,
              "#fdca26"
             ],
             [
              1,
              "#f0f921"
             ]
            ],
            "type": "histogram2dcontour"
           }
          ],
          "mesh3d": [
           {
            "colorbar": {
             "outlinewidth": 0,
             "ticks": ""
            },
            "type": "mesh3d"
           }
          ],
          "parcoords": [
           {
            "line": {
             "colorbar": {
              "outlinewidth": 0,
              "ticks": ""
             }
            },
            "type": "parcoords"
           }
          ],
          "pie": [
           {
            "automargin": true,
            "type": "pie"
           }
          ],
          "scatter": [
           {
            "fillpattern": {
             "fillmode": "overlay",
             "size": 10,
             "solidity": 0.2
            },
            "type": "scatter"
           }
          ],
          "scatter3d": [
           {
            "line": {
             "colorbar": {
              "outlinewidth": 0,
              "ticks": ""
             }
            },
            "marker": {
             "colorbar": {
              "outlinewidth": 0,
              "ticks": ""
             }
            },
            "type": "scatter3d"
           }
          ],
          "scattercarpet": [
           {
            "marker": {
             "colorbar": {
              "outlinewidth": 0,
              "ticks": ""
             }
            },
            "type": "scattercarpet"
           }
          ],
          "scattergeo": [
           {
            "marker": {
             "colorbar": {
              "outlinewidth": 0,
              "ticks": ""
             }
            },
            "type": "scattergeo"
           }
          ],
          "scattergl": [
           {
            "marker": {
             "colorbar": {
              "outlinewidth": 0,
              "ticks": ""
             }
            },
            "type": "scattergl"
           }
          ],
          "scattermapbox": [
           {
            "marker": {
             "colorbar": {
              "outlinewidth": 0,
              "ticks": ""
             }
            },
            "type": "scattermapbox"
           }
          ],
          "scatterpolar": [
           {
            "marker": {
             "colorbar": {
              "outlinewidth": 0,
              "ticks": ""
             }
            },
            "type": "scatterpolar"
           }
          ],
          "scatterpolargl": [
           {
            "marker": {
             "colorbar": {
              "outlinewidth": 0,
              "ticks": ""
             }
            },
            "type": "scatterpolargl"
           }
          ],
          "scatterternary": [
           {
            "marker": {
             "colorbar": {
              "outlinewidth": 0,
              "ticks": ""
             }
            },
            "type": "scatterternary"
           }
          ],
          "surface": [
           {
            "colorbar": {
             "outlinewidth": 0,
             "ticks": ""
            },
            "colorscale": [
             [
              0,
              "#0d0887"
             ],
             [
              0.1111111111111111,
              "#46039f"
             ],
             [
              0.2222222222222222,
              "#7201a8"
             ],
             [
              0.3333333333333333,
              "#9c179e"
             ],
             [
              0.4444444444444444,
              "#bd3786"
             ],
             [
              0.5555555555555556,
              "#d8576b"
             ],
             [
              0.6666666666666666,
              "#ed7953"
             ],
             [
              0.7777777777777778,
              "#fb9f3a"
             ],
             [
              0.8888888888888888,
              "#fdca26"
             ],
             [
              1,
              "#f0f921"
             ]
            ],
            "type": "surface"
           }
          ],
          "table": [
           {
            "cells": {
             "fill": {
              "color": "#EBF0F8"
             },
             "line": {
              "color": "white"
             }
            },
            "header": {
             "fill": {
              "color": "#C8D4E3"
             },
             "line": {
              "color": "white"
             }
            },
            "type": "table"
           }
          ]
         },
         "layout": {
          "annotationdefaults": {
           "arrowcolor": "#2a3f5f",
           "arrowhead": 0,
           "arrowwidth": 1
          },
          "autotypenumbers": "strict",
          "coloraxis": {
           "colorbar": {
            "outlinewidth": 0,
            "ticks": ""
           }
          },
          "colorscale": {
           "diverging": [
            [
             0,
             "#8e0152"
            ],
            [
             0.1,
             "#c51b7d"
            ],
            [
             0.2,
             "#de77ae"
            ],
            [
             0.3,
             "#f1b6da"
            ],
            [
             0.4,
             "#fde0ef"
            ],
            [
             0.5,
             "#f7f7f7"
            ],
            [
             0.6,
             "#e6f5d0"
            ],
            [
             0.7,
             "#b8e186"
            ],
            [
             0.8,
             "#7fbc41"
            ],
            [
             0.9,
             "#4d9221"
            ],
            [
             1,
             "#276419"
            ]
           ],
           "sequential": [
            [
             0,
             "#0d0887"
            ],
            [
             0.1111111111111111,
             "#46039f"
            ],
            [
             0.2222222222222222,
             "#7201a8"
            ],
            [
             0.3333333333333333,
             "#9c179e"
            ],
            [
             0.4444444444444444,
             "#bd3786"
            ],
            [
             0.5555555555555556,
             "#d8576b"
            ],
            [
             0.6666666666666666,
             "#ed7953"
            ],
            [
             0.7777777777777778,
             "#fb9f3a"
            ],
            [
             0.8888888888888888,
             "#fdca26"
            ],
            [
             1,
             "#f0f921"
            ]
           ],
           "sequentialminus": [
            [
             0,
             "#0d0887"
            ],
            [
             0.1111111111111111,
             "#46039f"
            ],
            [
             0.2222222222222222,
             "#7201a8"
            ],
            [
             0.3333333333333333,
             "#9c179e"
            ],
            [
             0.4444444444444444,
             "#bd3786"
            ],
            [
             0.5555555555555556,
             "#d8576b"
            ],
            [
             0.6666666666666666,
             "#ed7953"
            ],
            [
             0.7777777777777778,
             "#fb9f3a"
            ],
            [
             0.8888888888888888,
             "#fdca26"
            ],
            [
             1,
             "#f0f921"
            ]
           ]
          },
          "colorway": [
           "#636efa",
           "#EF553B",
           "#00cc96",
           "#ab63fa",
           "#FFA15A",
           "#19d3f3",
           "#FF6692",
           "#B6E880",
           "#FF97FF",
           "#FECB52"
          ],
          "font": {
           "color": "#2a3f5f"
          },
          "geo": {
           "bgcolor": "white",
           "lakecolor": "white",
           "landcolor": "#E5ECF6",
           "showlakes": true,
           "showland": true,
           "subunitcolor": "white"
          },
          "hoverlabel": {
           "align": "left"
          },
          "hovermode": "closest",
          "mapbox": {
           "style": "light"
          },
          "paper_bgcolor": "white",
          "plot_bgcolor": "#E5ECF6",
          "polar": {
           "angularaxis": {
            "gridcolor": "white",
            "linecolor": "white",
            "ticks": ""
           },
           "bgcolor": "#E5ECF6",
           "radialaxis": {
            "gridcolor": "white",
            "linecolor": "white",
            "ticks": ""
           }
          },
          "scene": {
           "xaxis": {
            "backgroundcolor": "#E5ECF6",
            "gridcolor": "white",
            "gridwidth": 2,
            "linecolor": "white",
            "showbackground": true,
            "ticks": "",
            "zerolinecolor": "white"
           },
           "yaxis": {
            "backgroundcolor": "#E5ECF6",
            "gridcolor": "white",
            "gridwidth": 2,
            "linecolor": "white",
            "showbackground": true,
            "ticks": "",
            "zerolinecolor": "white"
           },
           "zaxis": {
            "backgroundcolor": "#E5ECF6",
            "gridcolor": "white",
            "gridwidth": 2,
            "linecolor": "white",
            "showbackground": true,
            "ticks": "",
            "zerolinecolor": "white"
           }
          },
          "shapedefaults": {
           "line": {
            "color": "#2a3f5f"
           }
          },
          "ternary": {
           "aaxis": {
            "gridcolor": "white",
            "linecolor": "white",
            "ticks": ""
           },
           "baxis": {
            "gridcolor": "white",
            "linecolor": "white",
            "ticks": ""
           },
           "bgcolor": "#E5ECF6",
           "caxis": {
            "gridcolor": "white",
            "linecolor": "white",
            "ticks": ""
           }
          },
          "title": {
           "x": 0.05
          },
          "xaxis": {
           "automargin": true,
           "gridcolor": "white",
           "linecolor": "white",
           "ticks": "",
           "title": {
            "standoff": 15
           },
           "zerolinecolor": "white",
           "zerolinewidth": 2
          },
          "yaxis": {
           "automargin": true,
           "gridcolor": "white",
           "linecolor": "white",
           "ticks": "",
           "title": {
            "standoff": 15
           },
           "zerolinecolor": "white",
           "zerolinewidth": 2
          }
         }
        },
        "title": {
         "font": {
          "size": 20
         },
         "text": "Interactive Correlation Heatmap"
        },
        "width": 1600,
        "xaxis": {
         "anchor": "y",
         "constrain": "domain",
         "domain": [
          0,
          1
         ],
         "scaleanchor": "y",
         "title": {
          "text": "Features"
         }
        },
        "yaxis": {
         "anchor": "x",
         "autorange": "reversed",
         "constrain": "domain",
         "domain": [
          0,
          1
         ],
         "title": {
          "text": "Features"
         }
        }
       }
      }
     },
     "metadata": {},
     "output_type": "display_data"
    }
   ],
   "source": [
    "import plotly.express as px\n",
    "\n",
    "# Compute the correlation matrix\n",
    "numerical_columns = df_merged.select_dtypes(include=['float64', 'int64']).columns\n",
    "correlation_matrix = df_merged[numerical_columns].corr()\n",
    "\n",
    "# Create an interactive heatmap with Plotly\n",
    "fig = px.imshow(\n",
    "    correlation_matrix,\n",
    "    text_auto='.2f',  # Display values in squares with 2 decimal places\n",
    "    color_continuous_scale='RdBu',  # Valid Plotly color scale\n",
    "    title='Interactive Correlation Heatmap'\n",
    ")\n",
    "\n",
    "# Customize the layout to make it larger\n",
    "fig.update_layout(\n",
    "    title_font_size=20,\n",
    "    xaxis_title='Features',\n",
    "    yaxis_title='Features',\n",
    "    font=dict(size=14),\n",
    "    coloraxis_colorbar=dict(title=\"Correlation\"),\n",
    "    width=1600,  # Increase width\n",
    "    height=900   # Increase height\n",
    ")\n",
    "\n",
    "# Show the heatmap\n",
    "fig.show()"
   ]
  },
  {
   "cell_type": "markdown",
   "metadata": {},
   "source": [
    "### Boxplot"
   ]
  },
  {
   "cell_type": "code",
   "execution_count": 22,
   "metadata": {},
   "outputs": [
    {
     "data": {
      "image/png": "[encoded data removed]",
      "text/plain": [
       "<Figure size 1400x600 with 3 Axes>"
      ]
     },
     "metadata": {},
     "output_type": "display_data"
    }
   ],
   "source": [
    "# Boxplots for Key Columns\n",
    "plt.figure(figsize=(14, 6))\n",
    "\n",
    "# Boxplot for Foreign Reserves\n",
    "plt.subplot(1, 3, 1)\n",
    "sns.boxplot(y=df_merged['Cadangan Devisa BI Menurut Jenis'], color='blue')\n",
    "plt.title('Foreign Reserves')\n",
    "\n",
    "# Boxplot for GDP Growth\n",
    "plt.subplot(1, 3, 2)\n",
    "sns.boxplot(y=df_merged['Pertumbuhan PDB Harga Konstan Menurut Lapangan Usaha Sektoral (Triwulanan YoY)'], color='green')\n",
    "plt.title('GDP Growth')\n",
    "\n",
    "# Boxplot for Terakhir\n",
    "plt.subplot(1, 3, 3)\n",
    "sns.boxplot(y=df_merged['Terakhir'], color='purple')\n",
    "plt.title('Terakhir')\n",
    "\n",
    "plt.tight_layout()\n",
    "plt.show()"
   ]
  },
  {
   "cell_type": "markdown",
   "metadata": {},
   "source": [
    "## Feature Importance (Permutation Importance)"
   ]
  },
  {
   "cell_type": "markdown",
   "metadata": {},
   "source": [
    "### Feature Importance (Terakhir)"
   ]
  },
  {
   "cell_type": "code",
   "execution_count": 24,
   "metadata": {},
   "outputs": [
    {
     "name": "stdout",
     "output_type": "stream",
     "text": [
      "                                             Feature  Importance\n",
      "5                                           Terendah    0.460864\n",
      "4                                          Tertinggi    0.353057\n",
      "1  Pertumbuhan PDB Harga Konstan Menurut Lapangan...    0.002738\n",
      "3                          Total Nilai Impor Bulanan    0.001704\n",
      "0                   Cadangan Devisa BI Menurut Jenis   -0.000104\n",
      "2                         Total Nilai Ekspor Bulanan   -0.002034\n"
     ]
    }
   ],
   "source": [
    "import pandas as pd\n",
    "from sklearn.ensemble import RandomForestRegressor\n",
    "from sklearn.model_selection import train_test_split\n",
    "from sklearn.inspection import permutation_importance\n",
    "\n",
    "# Selecting features and target variable\n",
    "target_variable = \"Terakhir\"\n",
    "features = [\n",
    "    \"Cadangan Devisa BI Menurut Jenis\",\n",
    "    \"Pertumbuhan PDB Harga Konstan Menurut Lapangan Usaha Sektoral (Triwulanan YoY)\",\n",
    "    \"Total Nilai Ekspor Bulanan\",\n",
    "    \"Total Nilai Impor Bulanan\",\n",
    "    \"Tertinggi\",\n",
    "    \"Terendah\",\n",
    "]\n",
    "\n",
    "# Define X (features) and y (target)\n",
    "X = df_merged[features]\n",
    "y = df_merged[target_variable]\n",
    "\n",
    "# Split data into training and testing sets (80% train, 20% test)\n",
    "X_train, X_test, y_train, y_test = train_test_split(X, y, test_size=0.2, random_state=42)\n",
    "\n",
    "# Train a RandomForest model\n",
    "model = RandomForestRegressor(n_estimators=100, random_state=42)\n",
    "model.fit(X_train, y_train)\n",
    "\n",
    "# Compute permutation importance\n",
    "perm_importance = permutation_importance(model, X_test, y_test, n_repeats=10, random_state=42)\n",
    "\n",
    "# Create a DataFrame for better visualization\n",
    "feature_importance_df = pd.DataFrame({\n",
    "    \"Feature\": features,\n",
    "    \"Importance\": perm_importance.importances_mean\n",
    "}).sort_values(by=\"Importance\", ascending=False)\n",
    "\n",
    "# Display feature importance\n",
    "print(feature_importance_df)"
   ]
  },
  {
   "cell_type": "code",
   "execution_count": 25,
   "metadata": {},
   "outputs": [
    {
     "data": {
      "image/png": "[encoded data removed]",
      "text/plain": [
       "<Figure size 1000x600 with 1 Axes>"
      ]
     },
     "metadata": {},
     "output_type": "display_data"
    }
   ],
   "source": [
    "plt.figure(figsize=(10, 6))\n",
    "sns.barplot(x=feature_importance_df[\"Importance\"], y=feature_importance_df[\"Feature\"], palette=\"viridis\")\n",
    "plt.xlabel(\"Permutation Importance Score\")\n",
    "plt.ylabel(\"Feature\")\n",
    "plt.title(\"Feature Importance for 'Terakhir'\")\n",
    "plt.show()"
   ]
  },
  {
   "cell_type": "markdown",
   "metadata": {},
   "source": [
    "Interpretation: \n",
    "\n",
    "1. “Terendah” dan “Tertinggi”:\n",
    "    \n",
    "    - Mengapa Mereka Paling Tinggi:\n",
    "    \n",
    "        Dalam banyak data keuangan, nilai penutupan (Terakhir) secara inheren dibatasi oleh nilai terendah dan tertinggi pada periode tersebut. Fakta bahwa kedua fitur ini memiliki skor tertinggi menunjukkan bahwa model sangat  bergantung pada informasi rentang harga.\n",
    "\n",
    "    - Alasan Ekonomi:\n",
    "    \n",
    "        Nilai penutupan biasanya berada di antara nilai terendah dan tertinggi. Dengan demikian, kedua fitur ini secara langsung menentukan kisaran di mana nilai penutupan dapat berada.\n",
    "    \n",
    "2. Pentingnya yang Rendah dari Indikator Makroekonomi dan Perdagangan:\n",
    "    \n",
    "    - Fitur seperti Pertumbuhan PDB, Impor, Ekspor, dan Cadangan Devisa memiliki skor yang sangat rendah atau bahkan negatif. Ini menunjukkan bahwa untuk memprediksi nilai penutupan pasar keuangan, indikator makro dan perdagangan tidak memberikan kontribusi informasi yang signifikan.\n",
    "\n",
    "        - Alasan:\n",
    "        \n",
    "            Hubungan Tidak Langsung: Indikator makroekonomi cenderung mempengaruhi tren pasar dalam jangka panjang, sedangkan nilai penutupan lebih mencerminkan pergerakan harian atau periodik."
   ]
  },
  {
   "cell_type": "markdown",
   "metadata": {},
   "source": [
    "### Feature Importance (Pertumbuhan PDB)"
   ]
  },
  {
   "cell_type": "code",
   "execution_count": 26,
   "metadata": {},
   "outputs": [
    {
     "name": "stdout",
     "output_type": "stream",
     "text": [
      "                            Feature  Importance\n",
      "0  Cadangan Devisa BI Menurut Jenis    0.898991\n",
      "1        Total Nilai Ekspor Bulanan    0.542104\n",
      "2         Total Nilai Impor Bulanan    0.494650\n",
      "3                          Terakhir    0.023122\n"
     ]
    }
   ],
   "source": [
    "# Selecting new target variable (GDP Growth) and relevant features\n",
    "target_variable = \"Pertumbuhan PDB Harga Konstan Menurut Lapangan Usaha Sektoral (Triwulanan YoY)\"\n",
    "features = [\n",
    "    \"Cadangan Devisa BI Menurut Jenis\",  \n",
    "    \"Total Nilai Ekspor Bulanan\",        \n",
    "    \"Total Nilai Impor Bulanan\",         \n",
    "    \"Terakhir\"                          \n",
    "]\n",
    "\n",
    "# Define X (features) and y (target)\n",
    "X = df_merged[features]\n",
    "y = df_merged[target_variable]\n",
    "\n",
    "# Split data into training and testing sets (80% train, 20% test)\n",
    "X_train, X_test, y_train, y_test = train_test_split(X, y, test_size=0.2, random_state=42)\n",
    "\n",
    "# Train a RandomForest model\n",
    "model = RandomForestRegressor(n_estimators=100, random_state=42)\n",
    "model.fit(X_train, y_train)\n",
    "\n",
    "# Compute permutation importance\n",
    "perm_importance = permutation_importance(model, X_test, y_test, n_repeats=10, random_state=42)\n",
    "\n",
    "# Create a DataFrame for better visualization\n",
    "feature_importance_df = pd.DataFrame({\n",
    "    \"Feature\": features,\n",
    "    \"Importance\": perm_importance.importances_mean\n",
    "}).sort_values(by=\"Importance\", ascending=False)\n",
    "\n",
    "# Print the table\n",
    "print(feature_importance_df)"
   ]
  },
  {
   "cell_type": "code",
   "execution_count": 27,
   "metadata": {},
   "outputs": [
    {
     "data": {
      "image/png": "[encoded data removed]",
      "text/plain": [
       "<Figure size 1000x600 with 1 Axes>"
      ]
     },
     "metadata": {},
     "output_type": "display_data"
    }
   ],
   "source": [
    "plt.figure(figsize=(10, 6))\n",
    "sns.barplot(x=feature_importance_df[\"Importance\"], y=feature_importance_df[\"Feature\"], palette=\"magma\")\n",
    "plt.xlabel(\"Permutation Importance Score\")\n",
    "plt.ylabel(\"Feature\")\n",
    "plt.title(\"Feature Importance for (Pertumbuhan PDB Harga Konstan Menurut Lapangan Usaha Sektoral (Triwulanan YoY) (%))\")\n",
    "plt.show()"
   ]
  },
  {
   "cell_type": "markdown",
   "metadata": {},
   "source": [
    "Interpretation:\n",
    "1. Pentingnya Cadangan Devisa yang Tinggi:\n",
    "\n",
    "    - Mengapa Paling Dominan:\n",
    "\n",
    "        Model menunjukkan bahwa cadangan devisa memiliki pengaruh paling kuat dalam memprediksi pertumbuhan PDB. Hal ini masuk akal karena cadangan devisa merupakan indikator kunci dalam menilai stabilitas ekonomi dan kemampuan negara menghadapi guncangan eksternal.\n",
    "    - Keterkaitan Ekonomi:\n",
    "\n",
    "        Cadangan devisa mencerminkan kesehatan ekonomi dan kredibilitas finansial suatu negara, yang pada akhirnya berdampak pada pertumbuhan PDB. Posisi cadangan yang kuat biasanya menunjukkan manajemen ekonomi yang baik dan kepercayaan pasar.\n",
    "\n",
    "2. Importance dari Indikator Perdagangan (Ekspor dan Impor):\n",
    "\n",
    "    - Skor yang Cukup Tinggi:\n",
    "        \n",
    "        Baik nilai ekspor maupun impor memiliki kontribusi yang signifikan (masing-masing sekitar 0.54 dan 0.49).\n",
    "\n",
    "    - Alasan Ekonomi:\n",
    "\n",
    "        - Ekspor: Secara langsung meningkatkan pendapatan nasional dengan membawa devisa asing dan mendongkrak produksi, sehingga sangat berperan dalam mendorong pertumbuhan ekonomi.\n",
    "\n",
    "        - Impor: Walaupun merupakan arus keluar, volume impor mencerminkan skala aktivitas ekonomi dan permintaan konsumen. Pengaruhnya bisa jadi menangkap aspek neraca perdagangan yang mempengaruhi pertumbuhan PDB.\n",
    "\n",
    "3. Kontribusi Rendah dari Indikator Keuangan (“Terakhir”):\n",
    "\n",
    "    - Mengapa Rendah:\n",
    "    \n",
    "        Nilai penutupan suatu aset keuangan (Terakhir) lebih menggambarkan sentimen pasar jangka pendek dan tidak memberikan gambaran yang kuat mengenai faktor-faktor fundamental yang mempengaruhi pertumbuhan ekonomi secara keseluruhan."
   ]
  },
  {
   "cell_type": "markdown",
   "metadata": {},
   "source": [
    "### Feature Importance (Cadangan Devisa BI Menurut Jenis)"
   ]
  },
  {
   "cell_type": "code",
   "execution_count": 28,
   "metadata": {},
   "outputs": [
    {
     "name": "stdout",
     "output_type": "stream",
     "text": [
      "                                             Feature  Importance\n",
      "0                         Total Nilai Ekspor Bulanan    1.174303\n",
      "2  Pertumbuhan PDB Harga Konstan Menurut Lapangan...    0.209190\n",
      "5                                           Terendah    0.101145\n",
      "4                                          Tertinggi    0.033282\n",
      "3                                           Terakhir    0.013852\n",
      "1                          Total Nilai Impor Bulanan   -0.005379\n"
     ]
    }
   ],
   "source": [
    "# Selecting new target variable (Foreign Exchange Reserves) and relevant features\n",
    "target_variable = \"Cadangan Devisa BI Menurut Jenis\"\n",
    "features = [\n",
    "    \"Total Nilai Ekspor Bulanan\",       \n",
    "    \"Total Nilai Impor Bulanan\",   \n",
    "    \"Pertumbuhan PDB Harga Konstan Menurut Lapangan Usaha Sektoral (Triwulanan YoY)\", \n",
    "    \"Terakhir\",                          \n",
    "    \"Tertinggi\",                         \n",
    "    \"Terendah\"                           \n",
    "]\n",
    "\n",
    "# Define X (features) and y (target)\n",
    "X = df_merged[features]\n",
    "y = df_merged[target_variable]\n",
    "\n",
    "# Split data into training and testing sets (80% train, 20% test)\n",
    "X_train, X_test, y_train, y_test = train_test_split(X, y, test_size=0.2, random_state=42)\n",
    "\n",
    "# Train a RandomForest model\n",
    "model = RandomForestRegressor(n_estimators=100, random_state=42)\n",
    "model.fit(X_train, y_train)\n",
    "\n",
    "# Compute permutation importance\n",
    "perm_importance = permutation_importance(model, X_test, y_test, n_repeats=10, random_state=42)\n",
    "\n",
    "# Create a DataFrame for better visualization\n",
    "feature_importance_df = pd.DataFrame({\n",
    "    \"Feature\": features,\n",
    "    \"Importance\": perm_importance.importances_mean\n",
    "}).sort_values(by=\"Importance\", ascending=False)\n",
    "\n",
    "# Print the table\n",
    "print(feature_importance_df)"
   ]
  },
  {
   "cell_type": "code",
   "execution_count": 29,
   "metadata": {},
   "outputs": [
    {
     "data": {
      "image/png": "[encoded data removed]",
      "text/plain": [
       "<Figure size 1000x600 with 1 Axes>"
      ]
     },
     "metadata": {},
     "output_type": "display_data"
    }
   ],
   "source": [
    "plt.figure(figsize=(10, 6))\n",
    "sns.barplot(x=feature_importance_df[\"Importance\"], y=feature_importance_df[\"Feature\"], palette=\"magma\")\n",
    "plt.xlabel(\"Permutation Importance Score\")\n",
    "plt.ylabel(\"Feature\")\n",
    "plt.title(\"Feature Importance for (Cadangan Devisa BI Menurut Jenis)\")\n",
    "plt.show()"
   ]
  },
  {
   "cell_type": "markdown",
   "metadata": {},
   "source": [
    "Interpretation:\n",
    "\n",
    "1. Ekspor sebagai Prediktor Dominan:\n",
    "\n",
    "    - Mengapa Paling Tinggi:\n",
    "        \n",
    "        Nilai ekspor adalah fitur yang paling penting dalam memprediksi cadangan devisa. Secara ekonomi, ekspor merupakan sumber utama masuk devisa asing, yang secara langsung meningkatkan cadangan devisa suatu negara.\n",
    "\n",
    "    - Logika Ekonomi:\n",
    "\n",
    "        Dengan ekspor sebagai sumber pendapatan eksternal utama, skor tinggi ini menegaskan peran fundamental ekspor dalam meningkatkan cadangan devisa.\n",
    "\n",
    "2. Peran Moderat Pertumbuhan PDB:\n",
    "\n",
    "    - Kontribusi yang Signifikan:\n",
    "\n",
    "        Pertumbuhan PDB juga memiliki peran penting (skor sekitar 0.209190) karena ekonomi yang tumbuh cenderung menghasilkan neraca perdagangan yang lebih baik dan mendukung peningkatan cadangan melalui kekuatan fiskal yang lebih besar.\n",
    "    - Interpretasi:\n",
    "\n",
    "        Meskipun tidak sekuat ekspor, pertumbuhan PDB memberikan konteks ekonomi yang lebih luas yang berdampak pada akumulasi cadangan.\n",
    "\n",
    "3. Kontribusi yang Kecil dari Indikator Keuangan (Terendah, Tertinggi, Terakhir):\n",
    "\n",
    "    - Mengapa Skor Rendah:\n",
    "\n",
    "        Fitur-fitur yang mencerminkan nilai pasar keuangan (rentang harga dan nilai penutupan) kurang langsung berhubungan dengan posisi cadangan devisa negara.\n",
    "    - Alasan:\n",
    "    \n",
    "        Skor yang rendah (antara 0.013852 hingga 0.101145) menunjukkan bahwa meskipun ada korelasi antara tren pasar keuangan dan cadangan, kontribusi informasinya jauh lebih kecil dibandingkan data perdagangan.\n",
    "\n",
    "4. Nilai Negatif pada Total Nilai Impor Bulanan:\n",
    "\n",
    "\n",
    "    - Mengapa Negatif:\n",
    "    \n",
    "        Skor negatif menunjukkan bahwa ketika fitur impor diacak, performa model sedikit meningkat.\n",
    "\n",
    "    - Interpretasi:\n",
    "\n",
    "        Potensi Kebisingan: Data impor mentah mungkin menambah kebisingan atau redundansi, terutama jika pengaruh impor pada cadangan sudah tercermin lewat data ekspor."
   ]
  }
 ],
 "metadata": {
  "kernelspec": {
   "display_name": "Python 3",
   "language": "python",
   "name": "python3"
  },
  "language_info": {
   "codemirror_mode": {
    "name": "ipython",
    "version": 3
   },
   "file_extension": ".py",
   "mimetype": "text/x-python",
   "name": "python",
   "nbconvert_exporter": "python",
   "pygments_lexer": "ipython3",
   "version": "3.11.7"
  }
 },
 "nbformat": 4,
 "nbformat_minor": 2
}
